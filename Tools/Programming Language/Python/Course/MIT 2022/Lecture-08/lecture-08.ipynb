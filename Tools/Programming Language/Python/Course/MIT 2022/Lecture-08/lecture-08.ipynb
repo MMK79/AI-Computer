{
 "cells": [
  {
   "cell_type": "code",
   "execution_count": 4,
   "metadata": {},
   "outputs": [
    {
     "name": "stdout",
     "output_type": "stream",
     "text": [
      "function body With return\n",
      "invoked fucntion With return: False\n",
      "function body, Without return\n",
      "function body False\n",
      "invoked function Without return: None\n"
     ]
    }
   ],
   "source": [
    "def is_even_with_return(i):\n",
    "    \n",
    "    print(\"function body With return\")\n",
    "    remainder = i%2\n",
    "    return remainder == 0\n",
    "\n",
    "def is_even_without_return(i):\n",
    "    print(\"function body, Without return\")\n",
    "    remainder = i%2\n",
    "    has_rem = (remainder == 0)\n",
    "    print('function body', has_rem)\n",
    "    # no return --> what python do is: return None\n",
    "    \n",
    "number = 5\n",
    "print('invoked fucntion With return:',is_even_with_return(5))\n",
    "print('invoked function Without return:',is_even_without_return(5))"
   ]
  }
 ],
 "metadata": {
  "kernelspec": {
   "display_name": "base",
   "language": "python",
   "name": "python3"
  },
  "language_info": {
   "codemirror_mode": {
    "name": "ipython",
    "version": 3
   },
   "file_extension": ".py",
   "mimetype": "text/x-python",
   "name": "python",
   "nbconvert_exporter": "python",
   "pygments_lexer": "ipython3",
   "version": "3.11.7"
  }
 },
 "nbformat": 4,
 "nbformat_minor": 2
}
