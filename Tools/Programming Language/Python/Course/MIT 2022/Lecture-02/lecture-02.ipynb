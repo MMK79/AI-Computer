{
 "cells": [
  {
   "cell_type": "code",
   "execution_count": 1,
   "metadata": {},
   "outputs": [
    {
     "name": "stdout",
     "output_type": "stream",
     "text": [
      "33333\n",
      "15\n"
     ]
    }
   ],
   "source": [
    "num1 = input(\"Type a number: \")\n",
    "print(num1*5)\n",
    "\n",
    "num2 = int(input(\"Type a number: \"))\n",
    "print(num2*5)"
   ]
  },
  {
   "cell_type": "code",
   "execution_count": 11,
   "metadata": {},
   "outputs": [
    {
     "name": "stdout",
     "output_type": "stream",
     "text": [
      "I can run better than you\n",
      "run run run run run \n",
      "run run run run run \n",
      "I canrunbetter than you\n",
      "I canrun better than you\n",
      "I can run better than you\n",
      "I can run better than you\n",
      " run run run run run\n",
      "run run run run run\n",
      "('run', 'run', 'run', 'run', 'run')\n",
      "run run run run run\n",
      "run run run run run\n",
      "run run run run run\n"
     ]
    }
   ],
   "source": [
    "verb = input(\"Type a verb: \")\n",
    "print(\"I can\", verb, \"better than you\")\n",
    "print((verb + ' ') * 5 )\n",
    "\n",
    "verb_space = verb + ' '\n",
    "print(verb_space * 5)\n",
    "\n",
    "print(\"I can\" + verb + \"better than you\")\n",
    "print(\"I can\" + verb_space + \"better than you\")\n",
    "print(\"I can \" + verb + \" better than you\")\n",
    "print(\"I can\" + ' ' + verb + ' ' + \"better than you\")\n",
    "\n",
    "verb_space_behind = ' ' + verb\n",
    "print(verb_space_behind * 5)\n",
    "print(verb, verb, verb, verb, verb)\n",
    "print((verb,)*5)\n",
    "print(verb_space*4 + verb)\n",
    "print((verb +' ')*4 + verb )\n",
    "\n",
    "idea = verb_space*5\n",
    "print(idea[:len(idea)-1])"
   ]
  },
  {
   "cell_type": "code",
   "execution_count": 13,
   "metadata": {},
   "outputs": [
    {
     "name": "stdout",
     "output_type": "stream",
     "text": [
      "1000.0 is 33.33333333333333 % of 3000\n",
      "1000.0 is 33.33333333333333% of 3000\n",
      "1000.0 is 33.33333333333333% of 3000\n"
     ]
    }
   ],
   "source": [
    "num = 3000\n",
    "fraction = 1/3\n",
    "print(num*fraction, 'is', fraction*100, '% of',  num)\n",
    "print(num*fraction, 'is', str(fraction*100) + '% of', num)\n",
    "print(f'{num*fraction} is {fraction*100}% of {num}') # F-String\n"
   ]
  },
  {
   "cell_type": "code",
   "execution_count": 14,
   "metadata": {},
   "outputs": [
    {
     "name": "stdout",
     "output_type": "stream",
     "text": [
      "False\n",
      "False\n"
     ]
    }
   ],
   "source": [
    "pset_time = 15\n",
    "sleep_time = 8\n",
    "print(sleep_time > pset_time)\n",
    "drive = True\n",
    "drink = False\n",
    "both = drink and drive\n",
    "print(both)"
   ]
  },
  {
   "cell_type": "code",
   "execution_count": 18,
   "metadata": {},
   "outputs": [
    {
     "name": "stdout",
     "output_type": "stream",
     "text": [
      "False\n"
     ]
    }
   ],
   "source": [
    "secret_number = 11\n",
    "guess = int(input('Guess the number: '))\n",
    "print(secret_number == guess)"
   ]
  },
  {
   "cell_type": "code",
   "execution_count": 2,
   "metadata": {},
   "outputs": [
    {
     "name": "stdout",
     "output_type": "stream",
     "text": [
      "Impossible!\n",
      "End of day\n"
     ]
    }
   ],
   "source": [
    "pset_time = int(input('Enter your Pset time: '))\n",
    "sleep_time = int(input('Enter your Sleep time: '))\n",
    "\n",
    "if (pset_time + sleep_time) > 24:\n",
    "    print(\"Impossible!\")\n",
    "elif(pset_time + sleep_time) >= 24:\n",
    "    print('Full Schedule!')\n",
    "else:\n",
    "    leftover = abs(24 - pset_time - sleep_time)\n",
    "    print(leftover, \"h of free time!\")\n",
    "print('End of day')"
   ]
  },
  {
   "cell_type": "code",
   "execution_count": null,
   "metadata": {},
   "outputs": [],
   "source": [
    "x = int(input(\"Enter a number for x: \"))\n",
    "y = int(input(\"Enter a number for y: \"))\n",
    "if x == y:\n",
    "    print(x, \"is the same as\", y)\n",
    "print(\"These are equal!\") # It will print these for every value, and will not care about even if their equal or not\n",
    "\n",
    "if x == y:\n",
    "    print(x, \"is the same\", y)\n",
    "    print('These are equal!')"
   ]
  },
  {
   "cell_type": "code",
   "execution_count": 6,
   "metadata": {},
   "outputs": [
    {
     "name": "stdout",
     "output_type": "stream",
     "text": [
      "y is smaller\n",
      "Thanks\n"
     ]
    }
   ],
   "source": [
    "x = float(input(\"Enter a number for x: \"))\n",
    "y = float(input(\"Enter a number for y: \"))\n",
    "if x == y:\n",
    "    print(\"x and y are equal\")\n",
    "    if y != 0:\n",
    "        print(\"Therefore, x/y is\", x/y)\n",
    "elif x < y:\n",
    "    print(\"x is smaller\")\n",
    "else:\n",
    "    print(\"y is smaller\")\n",
    "print(\"Thanks\")"
   ]
  },
  {
   "cell_type": "code",
   "execution_count": 9,
   "metadata": {},
   "outputs": [
    {
     "name": "stdout",
     "output_type": "stream",
     "text": [
      "Your guess is high\n",
      "Thanks\n"
     ]
    }
   ],
   "source": [
    "secret_number = 21\n",
    "guess = int(input(\"guess the number: \"))\n",
    "if guess == secret_number: \n",
    "    print(\"You got me!\")\n",
    "elif guess < secret_number:\n",
    "    print(\"Your guess is low\")\n",
    "else:\n",
    "    print(\"Your guess is high\")\n",
    "print(\"Thanks\")"
   ]
  }
 ],
 "metadata": {
  "kernelspec": {
   "display_name": "base",
   "language": "python",
   "name": "python3"
  },
  "language_info": {
   "codemirror_mode": {
    "name": "ipython",
    "version": 3
   },
   "file_extension": ".py",
   "mimetype": "text/x-python",
   "name": "python",
   "nbconvert_exporter": "python",
   "pygments_lexer": "ipython3",
   "version": "3.11.7"
  }
 },
 "nbformat": 4,
 "nbformat_minor": 2
}
