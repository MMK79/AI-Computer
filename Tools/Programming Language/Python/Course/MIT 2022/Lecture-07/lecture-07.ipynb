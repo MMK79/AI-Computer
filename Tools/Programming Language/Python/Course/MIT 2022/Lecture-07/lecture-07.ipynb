{
 "cells": [
  {
   "cell_type": "code",
   "execution_count": null,
   "metadata": {},
   "outputs": [],
   "source": [
    "# Example of Functions\n",
    "max(1, 4)\n",
    "abs(-3)\n",
    "len('what is your name')"
   ]
  },
  {
   "cell_type": "code",
   "execution_count": 6,
   "metadata": {},
   "outputs": [
    {
     "name": "stdout",
     "output_type": "stream",
     "text": [
      "Your number is not even\n"
     ]
    },
    {
     "data": {
      "text/plain": [
       "bool"
      ]
     },
     "execution_count": 6,
     "metadata": {},
     "output_type": "execute_result"
    }
   ],
   "source": [
    "def is_even(i):\n",
    "    \"\"\"_summary_\n",
    "\n",
    "    Args:\n",
    "        i (_type_): a positive int\n",
    "        Returns True if i is even, otherwise False\n",
    "    \"\"\"\n",
    "    if i%2 == 0:\n",
    "        return True\n",
    "    else:\n",
    "        return False\n",
    "    # You can replace these 4 line with --> return i%2 == 0\n",
    "    \n",
    "number = int(input(\"Enter a positive integer: \"))\n",
    "while number < 0:\n",
    "    number = int(input(\"Enter a positive integer: \"))\n",
    "if is_even(number) == True:\n",
    "    print(\"Your number is even\")\n",
    "else:\n",
    "    print('Your number is not even')\n",
    "type(is_even)\n",
    "type(is_even(number))"
   ]
  },
  {
   "cell_type": "code",
   "execution_count": 8,
   "metadata": {},
   "outputs": [
    {
     "name": "stdout",
     "output_type": "stream",
     "text": [
      "False\n",
      "True\n"
     ]
    }
   ],
   "source": [
    "def div_by(n, d):\n",
    "    \"\"\"Returns True if a d divides n evenly and False otherwise\n",
    "\n",
    "    Args:\n",
    "        n (int): positive integer\n",
    "        d (int): positive integer\n",
    "    \"\"\"\n",
    "    return n%d == 0\n",
    "\n",
    "n_1 = 10\n",
    "d_1 = 3\n",
    "\n",
    "n_2 = 195\n",
    "d_2 = 13\n",
    "\n",
    "print(div_by(n_1, d_1))\n",
    "print(div_by(n_2, d_2))\n",
    "    "
   ]
  },
  {
   "cell_type": "code",
   "execution_count": 9,
   "metadata": {},
   "outputs": [
    {
     "name": "stdout",
     "output_type": "stream",
     "text": [
      "Numbers between 1 and 10: even or odd\n",
      "1 odd\n",
      "2 even\n",
      "3 odd\n",
      "4 even\n",
      "5 odd\n",
      "6 even\n",
      "7 odd\n",
      "8 even\n",
      "9 odd\n"
     ]
    }
   ],
   "source": [
    "def is_even(i):\n",
    "    \"\"\"Return True if even and False if not\n",
    "\n",
    "    Args:\n",
    "        i (int): positive integer\n",
    "    \"\"\"\n",
    "    return i%2==0\n",
    "\n",
    "print(\"Numbers between 1 and 10: even or odd\")\n",
    "\n",
    "for i in range(1, 10):\n",
    "    if is_even(i):\n",
    "        print(i, \"even\")\n",
    "    else:\n",
    "        print(i, \"odd\")"
   ]
  },
  {
   "cell_type": "code",
   "execution_count": 10,
   "metadata": {},
   "outputs": [
    {
     "name": "stdout",
     "output_type": "stream",
     "text": [
      "25\n"
     ]
    }
   ],
   "source": [
    "def is_even(i):\n",
    "    \"\"\"Return True if even and False if not\n",
    "\n",
    "    Args:\n",
    "        i (int): positive integer\n",
    "    \"\"\"\n",
    "    return i%2==0\n",
    "\n",
    "a = int(input(\"Enter your start point: \"))\n",
    "b = int(input(\"Enter your end point: \"))\n",
    "sum_odds = 0\n",
    "for i in range(a, b+1):\n",
    "    if is_even(i) == False:\n",
    "        sum_odds += i\n",
    "        \n",
    "print(sum_odds)"
   ]
  },
  {
   "cell_type": "code",
   "execution_count": 14,
   "metadata": {},
   "outputs": [
    {
     "name": "stdout",
     "output_type": "stream",
     "text": [
      "Sum of the odd number in range of (2, 7) is equal to 15 \n"
     ]
    }
   ],
   "source": [
    "def sum_odds(start, end):\n",
    "    \"\"\"Give a range, and it will find the sum of the odds number in between\n",
    "\n",
    "    Args:\n",
    "        start (int): positive integer\n",
    "        end (int): positive integer\n",
    "    \"\"\"\n",
    "    sum = 0\n",
    "    \n",
    "    for i in range(start, end+1):\n",
    "        remainder = i%2\n",
    "        if remainder != 0:\n",
    "            sum += i\n",
    "    return sum\n",
    "\n",
    "a = int(input(\"Enter your start number: \"))\n",
    "b = int(input(\"Enter your end number: \"))\n",
    "\n",
    "print(f\"Sum of the odd number in range of ({a}, {b}) is equal to {sum_odds(a, b)} \")\n",
    "             "
   ]
  },
  {
   "cell_type": "code",
   "execution_count": 17,
   "metadata": {},
   "outputs": [
    {
     "name": "stdout",
     "output_type": "stream",
     "text": [
      "3 3\n",
      "5 8\n",
      "7 15\n",
      "15\n"
     ]
    }
   ],
   "source": [
    "# For loop\n",
    "def sum_odds(a, b):\n",
    "    sum_of_odds = 0\n",
    "    for i in range(a, b+1):\n",
    "        if i%2 == 1:\n",
    "            sum_of_odds += i\n",
    "            print(i, sum_of_odds) # To track how your code doing\n",
    "    return sum_of_odds\n",
    "\n",
    "print(sum_odds(2, 7))"
   ]
  },
  {
   "cell_type": "code",
   "execution_count": 18,
   "metadata": {},
   "outputs": [
    {
     "name": "stdout",
     "output_type": "stream",
     "text": [
      "3 3\n",
      "5 8\n",
      "7 15\n",
      "15\n"
     ]
    }
   ],
   "source": [
    "# While loop\n",
    "def sum_odds(a, b):\n",
    "    sum_of_odds = 0\n",
    "    i = a\n",
    "    while i <= b:\n",
    "        if i%2 == 1:\n",
    "            sum_of_odds += i\n",
    "            print(i, sum_of_odds) # To track how your code doing\n",
    "        i += 1\n",
    "    return sum_of_odds\n",
    "\n",
    "print(sum_odds(2, 7))"
   ]
  },
  {
   "cell_type": "code",
   "execution_count": 40,
   "metadata": {},
   "outputs": [
    {
     "data": {
      "text/plain": [
       "True"
      ]
     },
     "execution_count": 40,
     "metadata": {},
     "output_type": "execute_result"
    }
   ],
   "source": [
    "# Write code that satisfies the following specification:\n",
    "# Hint, use paper and pen for a strategy before coding!\n",
    "def is_palindrome(s):\n",
    "    \"\"\" s is a string\n",
    "    Returns True if s is a palindrome and False otherwise\n",
    "    \"\"\"\n",
    "    # return s == s[::-1] --> this will work for odds and even\n",
    "    \n",
    "    # The code that I wrote below only work for odds :D not evens\n",
    "    first_half = ''\n",
    "    second_half = ''\n",
    "    if len(s)%2 == 1:\n",
    "        first_half = s[0: len(s)//2]\n",
    "        # print(first_half)\n",
    "        # print(first_half[::-1])\n",
    "        second_half = s[len(s)//2+1: len(s)]\n",
    "        # print(second_half)\n",
    "        if first_half[::-1] == second_half:\n",
    "            return True\n",
    "        else:\n",
    "            return False\n",
    "    else:\n",
    "        return False \n",
    "    \n",
    "      \n",
    "        \n",
    "is_palindrome('abcba')"
   ]
  },
  {
   "cell_type": "code",
   "execution_count": 41,
   "metadata": {},
   "outputs": [
    {
     "name": "stdout",
     "output_type": "stream",
     "text": [
      "bcd\n",
      "\n",
      "bbs\n"
     ]
    }
   ],
   "source": [
    "# Write code that satisfies the following specs:\n",
    "def keep_consonants(word):\n",
    "    \"\"\" word is a string of lowercase letters\n",
    "        Returns a string containing only the consonants \n",
    "        of word in the order they appear\n",
    "    \"\"\"\n",
    "    no_vowel = ''\n",
    "    for char in word:\n",
    "        if char not in 'aeiou':\n",
    "            no_vowel += char\n",
    "    return no_vowel\n",
    "    # your code here\n",
    "\n",
    "# For example\n",
    "print(keep_consonants(\"abcd\"))  # prints bcd\n",
    "print(keep_consonants(\"aaa\"))  # prints an empty string\n",
    "print(keep_consonants(\"babas\"))  # prints bbs\n"
   ]
  },
  {
   "cell_type": "code",
   "execution_count": 46,
   "metadata": {},
   "outputs": [
    {
     "name": "stdout",
     "output_type": "stream",
     "text": [
      "3\n",
      "6\n",
      "-1\n"
     ]
    }
   ],
   "source": [
    "# Write code that satisfies the following specs:\n",
    "def first_to_last_diff(s, c):\n",
    "    \"\"\" s is a string, c is single character string\n",
    "        Returns the difference between the index where c first\n",
    "        occurs and the index where c last occurs. If c does not \n",
    "        occur in s, returns -1. \n",
    "    \"\"\"\n",
    "    start = 0\n",
    "    end = 0\n",
    "    i = 0\n",
    "    first_flag = False\n",
    "    found_flag = False\n",
    "    for char in s:\n",
    "        i += 1\n",
    "        # print(i)\n",
    "        if char in c and first_flag == False:\n",
    "            start = i\n",
    "            # print('start:', start)\n",
    "            first_flag = True\n",
    "            found_flag = True\n",
    "        if char in c and first_flag == True:\n",
    "            end = i\n",
    "            # print('end:', end)\n",
    "    if found_flag == True:\n",
    "        return end - start\n",
    "    else:\n",
    "        return -1\n",
    "            \n",
    "    # your code here\n",
    "\n",
    "# For example\n",
    "print(first_to_last_diff('aaaa', 'a'))  # prints 3\n",
    "print(first_to_last_diff('abcabcabc', 'b'))  # prints 6\n",
    "print(first_to_last_diff('abcabcabc', 'd'))  # prints -1"
   ]
  }
 ],
 "metadata": {
  "kernelspec": {
   "display_name": "base",
   "language": "python",
   "name": "python3"
  },
  "language_info": {
   "codemirror_mode": {
    "name": "ipython",
    "version": 3
   },
   "file_extension": ".py",
   "mimetype": "text/x-python",
   "name": "python",
   "nbconvert_exporter": "python",
   "pygments_lexer": "ipython3",
   "version": "3.11.7"
  }
 },
 "nbformat": 4,
 "nbformat_minor": 2
}
