{
 "cells": [
  {
   "cell_type": "code",
   "execution_count": 25,
   "metadata": {},
   "outputs": [
    {
     "name": "stdout",
     "output_type": "stream",
     "text": [
      "54321, is not a perfect square But, 233.06867846825992 is close to it\n",
      "6871252\n"
     ]
    }
   ],
   "source": [
    "# Bisection Search\n",
    "# number = int(input('Give me a positive number, I will find its square root: '))\n",
    "number = 54321\n",
    "guess = number/2.0\n",
    "guess_count = 0\n",
    "epsilon = 0.01\n",
    "while abs(guess**2 - number) >= epsilon:\n",
    "    if guess**2 > number:\n",
    "        guess -= guess/2.0\n",
    "        guess_count += 1\n",
    "    else:\n",
    "        guess += guess/2.0\n",
    "        guess_count += 1\n",
    "print(f'{number}, is not a perfect square But, {guess} is close to it')\n",
    "print(guess_count) "
   ]
  },
  {
   "cell_type": "code",
   "execution_count": 28,
   "metadata": {},
   "outputs": [
    {
     "name": "stdout",
     "output_type": "stream",
     "text": [
      "number of guess 30\n",
      "233.06866218941286 is close to square root of 54321\n"
     ]
    }
   ],
   "source": [
    "# Bisection Search\n",
    "# number = int(input(\"Give me a positive number: \"))\n",
    "number = 54321\n",
    "epsilon = 0.01\n",
    "num_guesses = 0\n",
    "low = 0\n",
    "high = number\n",
    "guess = (high + low)/2.0\n",
    "while abs(guess**2 - number) >= epsilon:\n",
    "    if guess**2 < number:\n",
    "        low = guess\n",
    "    else:\n",
    "        high = guess\n",
    "    guess = (high + low)/2.0\n",
    "    num_guesses += 1\n",
    "print(f'number of guess {num_guesses}')\n",
    "print(f'{guess} is close to square root of {number}')\n",
    "# This code will not converge with values under 1, and it will result to infinite loop\n",
    "# square of a number between 1 and 0 will be lower than the number it self"
   ]
  },
  {
   "cell_type": "code",
   "execution_count": 29,
   "metadata": {},
   "outputs": [
    {
     "name": "stdout",
     "output_type": "stream",
     "text": [
      "number of guess 4\n",
      "0.703125 is close to square root of 0.5\n"
     ]
    }
   ],
   "source": [
    "# Bisection Search\n",
    "# number = int(input(\"Give me a positive number: \"))\n",
    "# fix the problem of code before by simply change the high and low point of program\n",
    "number = 0.5\n",
    "epsilon = 0.01\n",
    "num_guesses = 0\n",
    "low = number\n",
    "high = 1\n",
    "guess = (high + low)/2.0\n",
    "while abs(guess**2 - number) >= epsilon:\n",
    "    if guess**2 < number:\n",
    "        low = guess\n",
    "    else:\n",
    "        high = guess\n",
    "    guess = (high + low)/2.0\n",
    "    num_guesses += 1\n",
    "print(f'number of guess {num_guesses}')\n",
    "print(f'{guess} is close to square root of {number}')"
   ]
  },
  {
   "cell_type": "code",
   "execution_count": 31,
   "metadata": {},
   "outputs": [
    {
     "name": "stdout",
     "output_type": "stream",
     "text": [
      "number of guess 3\n",
      "0.22812500000000002 is close to square root of 0.05\n"
     ]
    }
   ],
   "source": [
    "# Bisection Search - Complete\n",
    "number = float(input(\"Give me a positive number: \"))\n",
    "epsilon = 0.01\n",
    "num_guesses = 0\n",
    "if number >= 1:\n",
    "    low = 0\n",
    "    high = number\n",
    "else:\n",
    "    low = number\n",
    "    high = 1\n",
    "guess = (high + low)/2.0\n",
    "while abs(guess**2 - number) >= epsilon:\n",
    "    if guess**2 < number:\n",
    "        low = guess\n",
    "    else:\n",
    "        high = guess\n",
    "    guess = (high + low)/2.0\n",
    "    num_guesses += 1\n",
    "print(f'number of guess {num_guesses}')\n",
    "print(f'{guess} is close to square root of {number}')"
   ]
  },
  {
   "cell_type": "code",
   "execution_count": 33,
   "metadata": {},
   "outputs": [
    {
     "name": "stdout",
     "output_type": "stream",
     "text": [
      "number of guess 31\n",
      "3.000091552734375 is close to square root of 27\n"
     ]
    }
   ],
   "source": [
    "# Bisection Search - Positive Cube\n",
    "cube = 27\n",
    "epsilon = 0.01\n",
    "low = 0\n",
    "high = cube\n",
    "guess = (low + high)/2.0\n",
    "num_guesses = 0\n",
    "\n",
    "while abs(guess**3 - cube) >= epsilon:\n",
    "    if guess**3 > cube:\n",
    "        high = guess\n",
    "    else:\n",
    "        low = guess\n",
    "    guess = (high + low)/2.0\n",
    "    num_guesses += 1\n",
    "print(f'number of guess {num_guesses}')\n",
    "print(f'{guess} is close to square root of {cube}')"
   ]
  },
  {
   "cell_type": "code",
   "execution_count": 37,
   "metadata": {},
   "outputs": [
    {
     "name": "stdout",
     "output_type": "stream",
     "text": [
      "4.898996732283414 5\n"
     ]
    }
   ],
   "source": [
    "# Newton-Raphson --> pretty limited, only work with roots of polynomial with only one variable\n",
    "x = 24\n",
    "epsilon = 0.01\n",
    "guess = 1.0\n",
    "guess_count = 0\n",
    "while abs(guess**2 - x) >= epsilon:\n",
    "    guess = guess - (guess**2 -x)/(2*guess)\n",
    "    guess_count += 1\n",
    "print(guess, guess_count)"
   ]
  }
 ],
 "metadata": {
  "kernelspec": {
   "display_name": "base",
   "language": "python",
   "name": "python3"
  },
  "language_info": {
   "codemirror_mode": {
    "name": "ipython",
    "version": 3
   },
   "file_extension": ".py",
   "mimetype": "text/x-python",
   "name": "python",
   "nbconvert_exporter": "python",
   "pygments_lexer": "ipython3",
   "version": "3.11.7"
  }
 },
 "nbformat": 4,
 "nbformat_minor": 2
}
