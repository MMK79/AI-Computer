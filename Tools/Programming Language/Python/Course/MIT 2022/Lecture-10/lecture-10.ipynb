{
 "cells": [
  {
   "cell_type": "code",
   "execution_count": 10,
   "metadata": {},
   "outputs": [
    {
     "name": "stdout",
     "output_type": "stream",
     "text": [
      "[1, 2, 3, 10]\n",
      "[1, 2, 3, 10, 11]\n"
     ]
    },
    {
     "ename": "TypeError",
     "evalue": "list.append() takes exactly one argument (2 given)",
     "output_type": "error",
     "traceback": [
      "\u001b[1;31m---------------------------------------------------------------------------\u001b[0m",
      "\u001b[1;31mTypeError\u001b[0m                                 Traceback (most recent call last)",
      "Cell \u001b[1;32mIn[10], line 9\u001b[0m\n\u001b[0;32m      6\u001b[0m L\u001b[38;5;241m.\u001b[39mappend(\u001b[38;5;241m11\u001b[39m) \u001b[38;5;66;03m# mutate a list, by adding a new object to it, in the end of the list\u001b[39;00m\n\u001b[0;32m      7\u001b[0m \u001b[38;5;28mprint\u001b[39m(L)\n\u001b[1;32m----> 9\u001b[0m L\u001b[38;5;241m.\u001b[39mappend(\u001b[38;5;241m1\u001b[39m, \u001b[38;5;241m2\u001b[39m)\n\u001b[0;32m     10\u001b[0m \u001b[38;5;28mprint\u001b[39m(L)\n\u001b[0;32m     12\u001b[0m L \u001b[38;5;241m=\u001b[39m L\u001b[38;5;241m.\u001b[39mappend(\u001b[38;5;241m5\u001b[39m) \u001b[38;5;66;03m# Append function return nothing, it does the mutation job and then it will be gone\u001b[39;00m\n",
      "\u001b[1;31mTypeError\u001b[0m: list.append() takes exactly one argument (2 given)"
     ]
    }
   ],
   "source": [
    "# List are mutable\n",
    "L = [1, 2, 3, 4]\n",
    "L[3] = 10 # mutate a list, you change the value of an object in that index directly in the memory\n",
    "print(L)\n",
    "\n",
    "L.append(11) # mutate a list, by adding a new object to it, in the end of the list\n",
    "print(L)\n",
    "\n",
    "# L.append(1, 2) # You can't append multiple elements with append, it only work for only one object\n",
    "# print(L)\n",
    "\n",
    "L = L.append(5) # Append function return nothing, it does the mutation job and then it will be gone\n",
    "print(L)\n"
   ]
  },
  {
   "cell_type": "code",
   "execution_count": 12,
   "metadata": {},
   "outputs": [
    {
     "name": "stdout",
     "output_type": "stream",
     "text": [
      "['re', 'mi']\n",
      "['do', ['re', 'mi']]\n",
      "['re', ['do', ['re', 'mi']]]\n",
      "None\n"
     ]
    }
   ],
   "source": [
    "L1 = ['re']\n",
    "L2 = ['mi']\n",
    "L3 = ['do']\n",
    "L4 = L1 + L2\n",
    "print(L4)\n",
    "L3.append(L4)\n",
    "print(L3)\n",
    "L = L1.append(L3) # Value of L will be None, cause the append function will retrun None\n",
    "print(L1)\n",
    "print(L)"
   ]
  },
  {
   "cell_type": "code",
   "execution_count": 27,
   "metadata": {},
   "outputs": [
    {
     "name": "stdout",
     "output_type": "stream",
     "text": [
      "[[10, 9, 8, 7, 6, 5, 4, 3, 2, 1, 0], [0, 1, 2, 3, 4, 5, 6, 7, 8, 9, 10]]\n",
      "[10, 9, 8, 7, 6, 5, 4, 3, 2, 1, 0]\n",
      "[0, 1, 2, 3, 4, 5, 6, 7, 8, 9, 10]\n",
      "[1]\n",
      "[2, 2, 2]\n",
      "[1, 2, 2, 2]\n"
     ]
    }
   ],
   "source": [
    "def make_ordered_list(n):\n",
    "    \"\"\"Returns a list containint all ints in order from 0 to n (inclusive)\n",
    "\n",
    "     Args:\n",
    "         n (int): positive int\n",
    "    \"\"\"\n",
    "    L = []\n",
    "    for i in range(n+1):\n",
    "        L.append(i)\n",
    "    reverse_L = L[::-1] # Reversed list\n",
    "    return [reverse_L, L] # you can return multiple output by using a list object, just like the Tuples\n",
    "\n",
    "def remove_elem(L, e):\n",
    "    \"\"\"Returns a new list with elements in the same order as L but without any elements equal to e.\n",
    "\n",
    "    Args:\n",
    "        L (list): \n",
    "        e (int): \n",
    "    \"\"\"\n",
    "    new_L = []\n",
    "    for i in L:\n",
    "        if i != e:\n",
    "            new_L.append(i)\n",
    "    return new_L\n",
    "\n",
    "print(make_ordered_list(10))\n",
    "x, y = make_ordered_list(10)\n",
    "print(x)\n",
    "print(y)\n",
    "\n",
    "L = [1,2,2,2]\n",
    "print(remove_elem(L, 2))    # prints [1]\n",
    "L = [1,2,2,2]\n",
    "print(remove_elem(L, 1))    # prints [2,2,2]\n",
    "L = [1,2,2,2]\n",
    "print(remove_elem(L, 0))    # prints [1,2,2,2]"
   ]
  },
  {
   "cell_type": "code",
   "execution_count": 34,
   "metadata": {},
   "outputs": [
    {
     "name": "stdout",
     "output_type": "stream",
     "text": [
      "['I', '<', '3', ' ', 'c', 's', ' ', '&', 'u']\n",
      "['I<3', 'cs', '&u']\n",
      "['I', '3 cs &u']\n",
      "['I<3', 'cs', '&u']\n"
     ]
    }
   ],
   "source": [
    "# Converting string to list\n",
    "s = \"I<3 cs &u\"\n",
    "L = list(s)\n",
    "print(L)\n",
    "\n",
    "# Split a string on a character\n",
    "L1 = s.split(' ')\n",
    "print(L1)\n",
    "L2 = s.split('<')\n",
    "print(L2)\n",
    "L3 = s.split() # if you gave no particular input, it will split by space by default\n",
    "print(L3)"
   ]
  },
  {
   "cell_type": "code",
   "execution_count": 35,
   "metadata": {},
   "outputs": [
    {
     "name": "stdout",
     "output_type": "stream",
     "text": [
      "abc\n",
      "a_b_c\n",
      "123\n"
     ]
    }
   ],
   "source": [
    "L = ['a', 'b', 'c']\n",
    "A = ''.join(L) # Simply convert a list of strings to one big string\n",
    "print(A)\n",
    "B = '_'.join(L) # We have _ between our quotes and this will lead us to see _ between each element that it combines\n",
    "print(B)\n",
    "# C = ''.join([1,2,3]) # Join only work on lists that only have strings in them --> this code will cause error\n",
    "C = ''.join(['1', '2', '3'])\n",
    "print(C)"
   ]
  },
  {
   "cell_type": "code",
   "execution_count": 102,
   "metadata": {},
   "outputs": [
    {
     "name": "stdout",
     "output_type": "stream",
     "text": [
      "['Hello', \"it's\", 'me']\n",
      "3\n",
      "['', '', '']\n",
      "0\n"
     ]
    }
   ],
   "source": [
    "def count_words(sen):\n",
    "    \"\"\"Returns how many words are in s(i.e. a word is a sequence of characters between spaces)\n",
    "\n",
    "    Args:\n",
    "        sen (str): string representing a sentence\n",
    "    \"\"\"\n",
    "    # Hardway - Counting by spaces - without using list\n",
    "    # next_spot = 1\n",
    "    # word_count = 0\n",
    "    # for i in sen:\n",
    "    #     if next_spot == len(sen):\n",
    "    #         if i != ' ':\n",
    "    #             word_count += 1\n",
    "    #         break\n",
    "    #     if (i == ' ' and sen[next_spot] != ' ') or (i != ' ' and next_spot == len(sen)):\n",
    "    #         word_count += 1\n",
    "    #     next_spot +=1\n",
    "    # return word_count\n",
    "\n",
    "    L1 = sen.split(' ') # Simply split the strings by space and then count how many list memeber you have\n",
    "    count = 0\n",
    "    for i in L1:\n",
    "        if i != '':\n",
    "            count += 1\n",
    "    print(L1)\n",
    "    return count\n",
    "\n",
    "    \n",
    "print(count_words(\"Hello it's me\"))\n",
    "print(count_words(\"  \")) # it is buggy for this type of entery but the first one handle this pretty well"
   ]
  },
  {
   "cell_type": "code",
   "execution_count": 108,
   "metadata": {},
   "outputs": [
    {
     "name": "stdout",
     "output_type": "stream",
     "text": [
      "[2, 4, 7]\n",
      "[7, 2, 4]\n",
      "[4, 2, 7]\n",
      "[2, 4, 7]\n"
     ]
    }
   ],
   "source": [
    "L = [4, 2, 7]\n",
    "L.sort() # Mutate # feels like a Command # just like .append this function return nothing and just mutate the list\n",
    "print(L)\n",
    "\n",
    "L = [4, 2, 7]\n",
    "L.reverse() # Mutate # Like .append this function will return nothing and just mutate the list\n",
    "print(L)\n",
    "\n",
    "L = [4, 2, 7]\n",
    "L_new = sorted(L) # sorted will not mutate the list as you can see # sorted feels like request\n",
    "print(L)\n",
    "print(L_new)"
   ]
  },
  {
   "cell_type": "code",
   "execution_count": 112,
   "metadata": {},
   "outputs": [
    {
     "name": "stdout",
     "output_type": "stream",
     "text": [
      "['at', 'look', 'photograph', 'this']\n"
     ]
    }
   ],
   "source": [
    "def sort_word(sen):\n",
    "    \"\"\"Returns a list containint all the words in sen but sorted in alphabetical order.\n",
    "\n",
    "    Args:\n",
    "        sen (string): representing a sentence\n",
    "    \"\"\"\n",
    "    \n",
    "    L = sen.split()\n",
    "    # return sorted(L)\n",
    "    L.sort()\n",
    "    return L\n",
    "\n",
    "print(sort_word(\"look at this photograph\"))"
   ]
  },
  {
   "cell_type": "code",
   "execution_count": 122,
   "metadata": {},
   "outputs": [
    {
     "name": "stdout",
     "output_type": "stream",
     "text": [
      "[1, 4, 9, 16, 25]\n"
     ]
    }
   ],
   "source": [
    "# Now we can write functions that have a side effect of mutating and they return None\n",
    "# Write a function that square every element of a list, mutating original list\n",
    "# Option 1: Make a new variable representing the index, initialized to 0 before the loop and incremented by 1 in the loop\n",
    "def square_list(L):\n",
    "    i = 0\n",
    "    for elem in L:\n",
    "        L[i] = elem**2\n",
    "        i += 1\n",
    "    return None\n",
    "\n",
    "L = [1, 2, 3, 4, 5]\n",
    "square_list(L)\n",
    "print(L)"
   ]
  },
  {
   "cell_type": "code",
   "execution_count": 123,
   "metadata": {},
   "outputs": [
    {
     "name": "stdout",
     "output_type": "stream",
     "text": [
      "[1, 4, 9, 16, 25]\n",
      "before fcn call: [2, 3, 4]\n",
      "after fcn call: [4, 9, 16]\n"
     ]
    }
   ],
   "source": [
    "# Option 2: Loop over the index not the element\n",
    "def square_list(L):\n",
    "    for i in range(len(L)):\n",
    "        L[i] = L[i]**2\n",
    "\n",
    "\n",
    "# L = [1, 2, 3, 4, 5]\n",
    "# square_list(L)\n",
    "# print(L)\n",
    "\n",
    "Lin = [2,3,4]\n",
    "print(\"before fcn call:\",Lin)\n",
    "square_list(Lin)\n",
    "print(\"after fcn call:\",Lin)   # mutated Lin"
   ]
  },
  {
   "cell_type": "code",
   "execution_count": null,
   "metadata": {},
   "outputs": [],
   "source": [
    "# Option 3: use Enumerate in the for loop"
   ]
  },
  {
   "cell_type": "code",
   "execution_count": 124,
   "metadata": {},
   "outputs": [
    {
     "name": "stdout",
     "output_type": "stream",
     "text": [
      "[1, 2, 3, 4, 0]\n",
      "[1, 2, 3, 4, 0, 1]\n",
      "[1, 2, 3, 4, 0, 1, 2]\n",
      "[1, 2, 3, 4, 0, 1, 2, 3]\n"
     ]
    }
   ],
   "source": [
    "# Tricky Example 1\n",
    "# A loop iterates over indices of L and mutates L each time (adds more elements)\n",
    "# Range returns something that behave like a tuple (but isn't - it returns an iterable)\n",
    "L = [1,2,3,4]\n",
    "for i in range(len(L)):\n",
    "    L.append(i)\n",
    "    print(L)\n",
    "# i iterates over a tuple created by range; mutation of L does not affect this \"tuple\"\n",
    "# This code will terminate cause i is looking at a constat tuple not a changing list itself "
   ]
  },
  {
   "cell_type": "code",
   "execution_count": null,
   "metadata": {},
   "outputs": [],
   "source": [
    "# Tricky Example 2\n",
    "# A loop iterates over L's elements directly and mutates L each time (adds more elements)\n",
    "L = [1, 2, 3, 4]\n",
    "i = 0\n",
    "for e in L:\n",
    "    L.append(i)\n",
    "    i += 1\n",
    "    print(L)\n",
    "# This code will never be terminate cause you are mutating the list each time and for this reason your list will always be ahead of your e\n",
    "# cause the code to never stop"
   ]
  },
  {
   "cell_type": "code",
   "execution_count": 131,
   "metadata": {},
   "outputs": [
    {
     "name": "stdout",
     "output_type": "stream",
     "text": [
      "[2, 1, 3, 4, 5, 6]\n",
      "[2, 1, 3, 0, 6]\n",
      "[4, 5, 6, [1, 2], [3, 4]]\n",
      "[2, 1, 3, 4, 5, 6, 2, 1, 3, 0, 6]\n"
     ]
    }
   ],
   "source": [
    "# Concatination --> creating a new list\n",
    "L1 = [2,1,3]\n",
    "L2 = [4,5,6]\n",
    "L3 = L1 + L2\n",
    "print(L3)\n",
    "L1.extend([0,6]) # Mutate the list, and adding the elements of the list to the end of the existing one\n",
    "print(L1)\n",
    "L2.extend([[1,2], [3,4]]) # it takes the elements of the list\n",
    "print(L2)\n",
    "L3.extend(L1)\n",
    "print(L3)"
   ]
  },
  {
   "cell_type": "code",
   "execution_count": 132,
   "metadata": {},
   "outputs": [
    {
     "name": "stdout",
     "output_type": "stream",
     "text": [
      "[1, 2, 3, 4, 1, 2, 3, 4]\n",
      "[1, 2, 3, 4, 1, 2, 3, 4, 1, 2, 3, 4, 1, 2, 3, 4]\n",
      "[1, 2, 3, 4, 1, 2, 3, 4, 1, 2, 3, 4, 1, 2, 3, 4, 1, 2, 3, 4, 1, 2, 3, 4, 1, 2, 3, 4, 1, 2, 3, 4]\n",
      "[1, 2, 3, 4, 1, 2, 3, 4, 1, 2, 3, 4, 1, 2, 3, 4, 1, 2, 3, 4, 1, 2, 3, 4, 1, 2, 3, 4, 1, 2, 3, 4, 1, 2, 3, 4, 1, 2, 3, 4, 1, 2, 3, 4, 1, 2, 3, 4, 1, 2, 3, 4, 1, 2, 3, 4, 1, 2, 3, 4, 1, 2, 3, 4]\n"
     ]
    }
   ],
   "source": [
    "# Trikcy Example 3\n",
    "# A loop iterates over L's elements directly but reassigns L to a new object each time\n",
    "L = [1,2,3,4]\n",
    "for e in L:\n",
    "    L = L + L # you are concatinating so this code will terminate cause you are not mutating the main list and you lost the binding to it.\n",
    "    # but the e walks down the structure that you pointed to when you called it, indexing into original data structure\n",
    "    print(L)"
   ]
  },
  {
   "cell_type": "code",
   "execution_count": null,
   "metadata": {},
   "outputs": [],
   "source": [
    "# This code will not be terminate cause you are mutating the main list and the e is going throw it\n",
    "L = [1,2,3,4]\n",
    "for e in L:\n",
    "    L.extend(L)\n",
    "    print(L)"
   ]
  },
  {
   "cell_type": "code",
   "execution_count": 138,
   "metadata": {},
   "outputs": [
    {
     "name": "stdout",
     "output_type": "stream",
     "text": [
      "2551755953856\n",
      "2551755953856\n",
      "2551755953856\n"
     ]
    }
   ],
   "source": [
    "L = [4,5,6]\n",
    "print(id(L))\n",
    "L.append(8)\n",
    "print(id(L))\n",
    "L.clear # mutating an object and because of this you have the same id\n",
    "print(id(L))"
   ]
  },
  {
   "cell_type": "code",
   "execution_count": 139,
   "metadata": {},
   "outputs": [
    {
     "name": "stdout",
     "output_type": "stream",
     "text": [
      "2551756096512\n",
      "2551756096512\n",
      "2551755953856\n"
     ]
    }
   ],
   "source": [
    "L = [4,5,6]\n",
    "print(id(L))\n",
    "L.append(8)\n",
    "print(id(L))\n",
    "L = []\n",
    "print(id(L)) # As you can see you get a different id from the previous ones and this is the difference between mutating an object and losing binding to it"
   ]
  }
 ],
 "metadata": {
  "kernelspec": {
   "display_name": "base",
   "language": "python",
   "name": "python3"
  },
  "language_info": {
   "codemirror_mode": {
    "name": "ipython",
    "version": 3
   },
   "file_extension": ".py",
   "mimetype": "text/x-python",
   "name": "python",
   "nbconvert_exporter": "python",
   "pygments_lexer": "ipython3",
   "version": "3.11.7"
  }
 },
 "nbformat": 4,
 "nbformat_minor": 2
}
