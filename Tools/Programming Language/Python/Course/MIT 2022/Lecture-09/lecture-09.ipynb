{
 "cells": [
  {
   "cell_type": "code",
   "execution_count": 2,
   "metadata": {},
   "outputs": [
    {
     "data": {
      "text/plain": [
       "True"
      ]
     },
     "execution_count": 2,
     "metadata": {},
     "output_type": "execute_result"
    }
   ],
   "source": [
    "def is_even(x):\n",
    "    return x%2==0\n",
    "\n",
    "lambda x: x%2==0\n",
    "\n",
    "is_even(8)\n",
    "(lambda x: x%2==0)(8)"
   ]
  },
  {
   "cell_type": "code",
   "execution_count": 3,
   "metadata": {},
   "outputs": [
    {
     "name": "stdout",
     "output_type": "stream",
     "text": [
      "81\n"
     ]
    }
   ],
   "source": [
    "def do_twice(n, fn):\n",
    "    return fn(fn(n))\n",
    "\n",
    "print(do_twice(3, lambda x: x**2))"
   ]
  },
  {
   "cell_type": "code",
   "execution_count": 4,
   "metadata": {},
   "outputs": [
    {
     "name": "stdout",
     "output_type": "stream",
     "text": [
      "type a is <class 'int'>\n",
      "type b is <class 'tuple'>\n"
     ]
    }
   ],
   "source": [
    "a = (5)\n",
    "b = (5,)\n",
    "print('type a = (5) is', type(a))\n",
    "print('type b = (5,) is', type(b))\n",
    "# This show the importance of the ',' for tuples, it tells the python that it is a tuple"
   ]
  },
  {
   "cell_type": "code",
   "execution_count": 15,
   "metadata": {},
   "outputs": [
    {
     "name": "stdout",
     "output_type": "stream",
     "text": [
      "t is a <class 'tuple'> and it contains of (2, 'mit', 3)\n",
      "t[0] 2\n",
      "sum of two tuple like; (2, 'mit', 3) and (5,6) will result into new tuple (2, 'mit', 3, 5, 6)\n",
      "Slicing in tuples t[1:2]: ('mit',)\n",
      "Slicing in tuples t[1:3]: ('mit', 3)\n",
      "len(t): 3\n",
      "max((3,5,0)) give you: 5\n"
     ]
    },
    {
     "ename": "TypeError",
     "evalue": "'tuple' object does not support item assignment",
     "output_type": "error",
     "traceback": [
      "\u001b[1;31m---------------------------------------------------------------------------\u001b[0m",
      "\u001b[1;31mTypeError\u001b[0m                                 Traceback (most recent call last)",
      "Cell \u001b[1;32mIn[15], line 9\u001b[0m\n\u001b[0;32m      7\u001b[0m \u001b[38;5;28mprint\u001b[39m(\u001b[38;5;124m\"\u001b[39m\u001b[38;5;124mlen(t):\u001b[39m\u001b[38;5;124m\"\u001b[39m, \u001b[38;5;28mlen\u001b[39m(t))\n\u001b[0;32m      8\u001b[0m \u001b[38;5;28mprint\u001b[39m(\u001b[38;5;124m\"\u001b[39m\u001b[38;5;124mmax((3,5,0)) give you:\u001b[39m\u001b[38;5;124m\"\u001b[39m, \u001b[38;5;28mmax\u001b[39m((\u001b[38;5;241m3\u001b[39m, \u001b[38;5;241m4\u001b[39m, \u001b[38;5;241m5\u001b[39m)))\n\u001b[1;32m----> 9\u001b[0m t[\u001b[38;5;241m1\u001b[39m] \u001b[38;5;241m=\u001b[39m \u001b[38;5;241m4\u001b[39m\n",
      "\u001b[1;31mTypeError\u001b[0m: 'tuple' object does not support item assignment"
     ]
    },
    {
     "ename": "",
     "evalue": "",
     "output_type": "error",
     "traceback": [
      "\u001b[1;31mThe Kernel crashed while executing code in the current cell or a previous cell. \n",
      "\u001b[1;31mPlease review the code in the cell(s) to identify a possible cause of the failure. \n",
      "\u001b[1;31mClick <a href='https://aka.ms/vscodeJupyterKernelCrash'>here</a> for more info. \n",
      "\u001b[1;31mView Jupyter <a href='command:jupyter.viewOutput'>log</a> for further details."
     ]
    }
   ],
   "source": [
    "t = (2, \"mit\", 3) # As you can see you have different type of objects in the same tuple\n",
    "print(\"t is a\", type(t), 'and it contains of', t)\n",
    "print(\"t[0]\",t[0])\n",
    "print(\"sum of two tuple like;\", t, \"and (5,6) will result into new tuple\", t + (5, 6))\n",
    "print(\"Slicing in tuples t[1:2]:\", t[1:2])\n",
    "print(\"Slicing in tuples t[1:3]:\", t[1:3])\n",
    "print(\"len(t):\", len(t))\n",
    "print(\"max((3,5,0)) give you:\", max((3, 4, 5)))\n",
    "# t[1] = 4 # This code result into an error because tuples are an immutable objects"
   ]
  },
  {
   "cell_type": "code",
   "execution_count": 5,
   "metadata": {},
   "outputs": [
    {
     "name": "stdout",
     "output_type": "stream",
     "text": [
      "4\n",
      "(1, 2)\n",
      "(1, 2)\n",
      "1\n"
     ]
    },
    {
     "data": {
      "text/plain": [
       "int"
      ]
     },
     "execution_count": 5,
     "metadata": {},
     "output_type": "execute_result"
    }
   ],
   "source": [
    "seq = (2, 'a', 4, (1, 2))\n",
    "print(len(seq))\n",
    "print(seq[3])\n",
    "print(seq[-1])\n",
    "print(seq[3][0]) # Further index into a tuple object inside our tuple --> you can chain index\n",
    "type(seq[0])\n",
    "# print(seq[4])"
   ]
  },
  {
   "cell_type": "code",
   "execution_count": 7,
   "metadata": {},
   "outputs": [
    {
     "name": "stdout",
     "output_type": "stream",
     "text": [
      "a\n",
      "(4, (1, 2))\n",
      "('a', (1, 2))\n",
      "(2, 'a', 4)\n",
      "('a', 4)\n"
     ]
    }
   ],
   "source": [
    "# Tuple Slicing\n",
    "print(seq[1])\n",
    "print(seq[-2:])\n",
    "print(seq[1:4:2])\n",
    "print(seq[:-1])\n",
    "print(seq[1:3])"
   ]
  },
  {
   "cell_type": "code",
   "execution_count": 8,
   "metadata": {},
   "outputs": [
    {
     "name": "stdout",
     "output_type": "stream",
     "text": [
      "2\n",
      "a\n",
      "4\n",
      "(1, 2)\n"
     ]
    }
   ],
   "source": [
    "# Iterate in tuples\n",
    "for e in seq:\n",
    "    print(e)"
   ]
  },
  {
   "cell_type": "code",
   "execution_count": null,
   "metadata": {},
   "outputs": [],
   "source": [
    "# Before learning Tuples - Swap variables\n",
    "x = 1\n",
    "y = 2\n",
    "temp = x\n",
    "x = y\n",
    "y = temp"
   ]
  },
  {
   "cell_type": "code",
   "execution_count": 9,
   "metadata": {},
   "outputs": [
    {
     "name": "stdout",
     "output_type": "stream",
     "text": [
      "1\n"
     ]
    }
   ],
   "source": [
    "# After learning Tuples = swap variables\n",
    "x = 1\n",
    "y = 2\n",
    "(x, y) = (y, x)\n",
    "print(y)"
   ]
  },
  {
   "cell_type": "code",
   "execution_count": 13,
   "metadata": {},
   "outputs": [
    {
     "name": "stdout",
     "output_type": "stream",
     "text": [
      "(3, 1)\n",
      "2\n",
      "1\n"
     ]
    }
   ],
   "source": [
    "# Before Tuples you could just return one value from a function\n",
    "# But with Tuples you can return more than one value from a function\n",
    "def  quotient_and_remainder(x, y):\n",
    "    q = x//y\n",
    "    r = x%y\n",
    "    return (q, r)\n",
    "\n",
    "both = quotient_and_remainder(10, 3)\n",
    "print(both)\n",
    "(quot, rem) = quotient_and_remainder(5,2) # Assigning each output to a different name\n",
    "print(quot)\n",
    "print(rem)"
   ]
  },
  {
   "cell_type": "code",
   "execution_count": 18,
   "metadata": {},
   "outputs": [
    {
     "name": "stdout",
     "output_type": "stream",
     "text": [
      "(2, 3)\n",
      "\"hello\" have 2 vowels and 3 consonants\n",
      "(1, 3)\n",
      "(0, 5)\n"
     ]
    }
   ],
   "source": [
    "def char_count(s):\n",
    "    \"\"\"Return a tuple where the first element is the number of vowels in s and the second element is the number of consonants in s\n",
    "\n",
    "    Args:\n",
    "        s (string): lowercase chars\n",
    "    \"\"\"\n",
    "    (vowels_count, consonant_count) = (0 , 0)\n",
    "    for char in s:\n",
    "        if char in 'aeiou':\n",
    "            vowels_count += 1\n",
    "        else:\n",
    "            consonant_count += 1\n",
    "    return (vowels_count, consonant_count)\n",
    "\n",
    "print(char_count('hello'))\n",
    "(vowels, consonant) = char_count('hello')\n",
    "print(f'\"hello\" have {vowels} vowels and {consonant} consonants')\n",
    "print(char_count('abcd'))\n",
    "print(char_count('zcght'))\n"
   ]
  },
  {
   "cell_type": "code",
   "execution_count": 20,
   "metadata": {},
   "outputs": [
    {
     "name": "stdout",
     "output_type": "stream",
     "text": [
      "3.5\n",
      "5.0\n"
     ]
    }
   ],
   "source": [
    "# Getting multiple input for a function with python using tuples object behind the scene\n",
    "# Calculate mean of numbers\n",
    "def mean(*args): #  \"* notion\" is the way to use tuples for multiple inputes without restriction\n",
    "    total = 0\n",
    "    for a in args:\n",
    "        total += a\n",
    "    return total/len(args)\n",
    "# How to get multiple input from user?\n",
    "print(mean(1,2,3,4,5,6)) # getting 6 inputs\n",
    "print(mean(6, 0, 9)) # getting only 3 inputs\n",
    "# Different number of input"
   ]
  },
  {
   "cell_type": "code",
   "execution_count": 23,
   "metadata": {},
   "outputs": [
    {
     "name": "stdout",
     "output_type": "stream",
     "text": [
      "3.5\n",
      "5.0\n"
     ]
    }
   ],
   "source": [
    "def mean(args): #  without using \"* notion\"/Tuples\n",
    "    total = 0\n",
    "    for a in args:\n",
    "        total += a\n",
    "    return total/len(args)\n",
    "print(mean((1,2,3,4,5,6)))\n",
    "print(mean((6, 0, 9)))\n",
    "# Instead of define the input of a function as a unlimited tuple, we give the tuple object ourselves and it work the same way"
   ]
  },
  {
   "cell_type": "code",
   "execution_count": 31,
   "metadata": {},
   "outputs": [
    {
     "name": "stdout",
     "output_type": "stream",
     "text": [
      "[1, 2, 3, 4]\n",
      "len(L)= 4\n",
      "L[0]= 2\n",
      "L[2]+1= 5\n",
      "L[3]= [1, 2]\n",
      "L[i-1]= a\n",
      "min([3,5,0])= 0\n"
     ]
    }
   ],
   "source": [
    "a_list = [] # How to create a list object\n",
    "L = [2, 'a', 4, [1, 2]] # like tuples you have a ordered sequence of objects, you can have different type of objects in list, you can have list in list\n",
    "print([1, 2] + [3, 4]) # Indexing in list\n",
    "print('len(L)=',len(L))\n",
    "print('L[0]=', L[0])\n",
    "print('L[2]+1=', L[2]+1)\n",
    "print('L[3]=',L[3])\n",
    "# print(L[4]) # result in error, list elements are indexed 0 to len(L)-1\n",
    "i = 2\n",
    "print('L[i-1]=',L[i-1])\n",
    "print('min([3,5,0])=', min([3,5,0]))"
   ]
  },
  {
   "cell_type": "code",
   "execution_count": 34,
   "metadata": {},
   "outputs": [
    {
     "name": "stdout",
     "output_type": "stream",
     "text": [
      "8\n"
     ]
    }
   ],
   "source": [
    "# Iterate Throw list\n",
    "# Pythonic way\n",
    "total = 0\n",
    "L = [3,5,0]\n",
    "for i in L:\n",
    "    total += i\n",
    "print(total)"
   ]
  },
  {
   "cell_type": "code",
   "execution_count": 36,
   "metadata": {},
   "outputs": [
    {
     "name": "stdout",
     "output_type": "stream",
     "text": [
      "16\n"
     ]
    }
   ],
   "source": [
    "# Add the Elements of a list\n",
    "def list_sum(L):\n",
    "    total = 0\n",
    "    for i in L:\n",
    "        # i is 8 then 3 then 5\n",
    "        total += i\n",
    "    return total\n",
    "print(list_sum([8, 3, 5]))\n",
    "## To help you write code and debug, comment on what the loop var values are so you don't get confused "
   ]
  },
  {
   "cell_type": "code",
   "execution_count": 37,
   "metadata": {},
   "outputs": [
    {
     "name": "stdout",
     "output_type": "stream",
     "text": [
      "6\n"
     ]
    }
   ],
   "source": [
    "# Add the length of elements of a list\n",
    "def len_sum(L):\n",
    "    total = 0\n",
    "    for s in L:\n",
    "        # s is 'ab' then 'def' then 'g'\n",
    "        total += len(s)\n",
    "    return (total)\n",
    "print(len_sum(['ab', 'def', 'g']))"
   ]
  },
  {
   "cell_type": "code",
   "execution_count": 41,
   "metadata": {},
   "outputs": [
    {
     "name": "stdout",
     "output_type": "stream",
     "text": [
      "(9, 15)\n",
      "(10, 24)\n",
      "(27, 1008)\n"
     ]
    }
   ],
   "source": [
    "def sum_and_prod(L):\n",
    "    \"\"\"Return a tuple where the first value is the sum of all elements in L and the second value is the product of all elements in L\n",
    "\n",
    "    Args:\n",
    "        L (list): list of numbers\n",
    "    \"\"\"\n",
    "    # sum , product = 0, 1  # You can write it this way too!\n",
    "    (sum, product) = (0, 1)\n",
    "    for num in L:\n",
    "        sum += num\n",
    "        product *= num\n",
    "    return (sum, product)\n",
    "print(sum_and_prod([1, 3, 5]))\n",
    "print(sum_and_prod([1,2,3,4]))   # prints (10, 24)\n",
    "print(sum_and_prod([12,6,2,7]))   # prints (27, 1008)"
   ]
  },
  {
   "cell_type": "code",
   "execution_count": 42,
   "metadata": {},
   "outputs": [
    {
     "data": {
      "text/plain": [
       "('sunny', 'ccold')"
      ]
     },
     "execution_count": 42,
     "metadata": {},
     "output_type": "execute_result"
    }
   ],
   "source": [
    "# Trace this code:\n",
    "# Figure out what it returns and then run it to check yourself.\n",
    "def always_sunny(t1, t2):\n",
    "    \"\"\" t1, t2 are non-empty \"\"\"\n",
    "    sun = (\"sunny\", \"sun\")\n",
    "    first = t1[0] + t2[0]\n",
    "    return (sun[0], first)\n",
    "\n",
    "always_sunny(('cloudy' ), ('cold',))  # returns what?"
   ]
  },
  {
   "cell_type": "code",
   "execution_count": 52,
   "metadata": {},
   "outputs": [
    {
     "name": "stdout",
     "output_type": "stream",
     "text": [
      "3\n",
      "20\n"
     ]
    }
   ],
   "source": [
    "def max_of_both(n, f1, f2):\n",
    "    \"\"\" n is an int\n",
    "        f1 and f2 are functions that take in an int and return a float\n",
    "    Applies f1 and f2 on all numbers between 0 and n (inclusive). \n",
    "    Returns the maximum value of all these results.\n",
    "    \"\"\"\n",
    "    # with using max function\n",
    "    maximum = 0\n",
    "    for i in range(n+1):\n",
    "        new_max = max(f1(i), f2(i), i)\n",
    "        if new_max > maximum:\n",
    "            maximum = new_max\n",
    "    return maximum\n",
    "    \n",
    "    # without using max function\n",
    "    # maximum = 0\n",
    "    # for i in range(n+1):\n",
    "    #     if f1(i) > maximum:\n",
    "    #         maximum = f1(i)\n",
    "    #     if f2(i) > maximum:\n",
    "    #         maximum = f2(i)\n",
    "    # return maximum\n",
    "\n",
    "        \n",
    "print(max_of_both(2, lambda x:x-1, lambda x:x+1))  # prints 3\n",
    "print(max_of_both(10, lambda x:x*2, lambda x:x/2))  # prints 20\n",
    "# don't give a same name to your variable/assignment name as your function names"
   ]
  },
  {
   "cell_type": "code",
   "execution_count": 61,
   "metadata": {},
   "outputs": [
    {
     "name": "stdout",
     "output_type": "stream",
     "text": [
      "18\n"
     ]
    }
   ],
   "source": [
    "def sublist_sum(L):\n",
    "    \"\"\" L is a list whose elements are lists with int elements\n",
    "    Returns the sum of all int elements. \"\"\"\n",
    "    # sum_all = 0\n",
    "    # for i in L:\n",
    "    #     # print(i)\n",
    "    #     for j in i:\n",
    "    #         # print(j)\n",
    "    #         sum_all += j\n",
    "    # return sum_all\n",
    "# Using Sum function\n",
    "    tot = 0\n",
    "    for i in L:\n",
    "        tot += sum(i)\n",
    "    return tot\n",
    "            \n",
    "    \n",
    "        \n",
    "\n",
    "\n",
    "print(sublist_sum([[1,2], [4,5,6]])) # prints 18"
   ]
  }
 ],
 "metadata": {
  "kernelspec": {
   "display_name": "base",
   "language": "python",
   "name": "python3"
  },
  "language_info": {
   "codemirror_mode": {
    "name": "ipython",
    "version": 3
   },
   "file_extension": ".py",
   "mimetype": "text/x-python",
   "name": "python",
   "nbconvert_exporter": "python",
   "pygments_lexer": "ipython3",
   "version": "3.11.7"
  }
 },
 "nbformat": 4,
 "nbformat_minor": 2
}
