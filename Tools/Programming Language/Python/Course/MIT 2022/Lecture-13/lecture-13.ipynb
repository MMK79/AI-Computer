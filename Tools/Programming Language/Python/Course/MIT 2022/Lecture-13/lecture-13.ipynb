{
 "cells": [
  {
   "cell_type": "code",
   "execution_count": null,
   "id": "a3a2c0b0",
   "metadata": {},
   "outputs": [],
   "source": [
    "test = [1, 2, 3]\n",
    "# Exception Example\n",
    "# try to access beyond limit\n",
    "test[4]\n",
    "# trying to convert to inappropriate type\n",
    "int(test)\n",
    "# refer to non existing variable\n",
    "a\n",
    "# Mixing datatypes without coercoin\n",
    "'a'/4"
   ]
  },
  {
   "cell_type": "code",
   "execution_count": null,
   "id": "8bf370b3",
   "metadata": {},
   "outputs": [],
   "source": [
    "def sum_digits(s):\n",
    "    \"\"\"\n",
    "    s: is a non-empty string, that contain digits\n",
    "    return sum of all character within that string\n",
    "    \"\"\"\n",
    "    total = 0\n",
    "    for char in s:\n",
    "        # robust way of writing it\n",
    "        if char in '1234567890':\n",
    "            val = int(char)\n",
    "            total += val\n",
    "    return total\n",
    "\n",
    "# works fine with both input\n",
    "print(sum_digits('123'))\n",
    "print(sum_digits('123abc'))"
   ]
  },
  {
   "cell_type": "code",
   "execution_count": null,
   "id": "c6afa8b6",
   "metadata": {},
   "outputs": [],
   "source": [
    "def sum_digits(s):\n",
    "    \"\"\"\n",
    "    s: is a non-empty string, that contain digits\n",
    "    return sum of all character within that string\n",
    "    \"\"\"\n",
    "    total = 0\n",
    "    for char in s:\n",
    "        val = int(char)\n",
    "        total += val\n",
    "    return total\n",
    "\n",
    "# works fine with this input\n",
    "print(sum_digits('123'))\n",
    "# breaks with this input\n",
    "print(sum_digits('123abc'))"
   ]
  },
  {
   "cell_type": "code",
   "execution_count": null,
   "id": "f4618be8",
   "metadata": {},
   "outputs": [
    {
     "name": "stdout",
     "output_type": "stream",
     "text": [
      "6\n",
      "can't convert a\n",
      "can't convert b\n",
      "can't convert c\n",
      "6\n"
     ]
    }
   ],
   "source": [
    "# Write with exception\n",
    "def sum_digits(s):\n",
    "    \"\"\"\n",
    "    s: is a non-empty string, that contain digits\n",
    "    return sum of all character within that string\n",
    "    \"\"\"\n",
    "    total = 0\n",
    "    for char in s:\n",
    "        try:\n",
    "            val = int(char)\n",
    "            total += val\n",
    "        except:\n",
    "            print(\"can't convert\", char)\n",
    "    return total\n",
    "\n",
    "# works fine with this input\n",
    "print(sum_digits('123'))\n",
    "# breaks with this input\n",
    "print(sum_digits('123abc'))"
   ]
  },
  {
   "cell_type": "code",
   "execution_count": null,
   "id": "9a98de01",
   "metadata": {},
   "outputs": [],
   "source": [
    "# without handler(try, except block)\n",
    "a = int(input(\"Tell me one number\"))\n",
    "b = int(input(\"Tell me another number\"))\n",
    "print(a/b)"
   ]
  },
  {
   "cell_type": "code",
   "execution_count": 2,
   "id": "78a08f47",
   "metadata": {},
   "outputs": [
    {
     "name": "stdout",
     "output_type": "stream",
     "text": [
      "Bug in user input\n"
     ]
    }
   ],
   "source": [
    "# User input is a good place to put handler(try, except block)\n",
    "# With handler (try, except)\n",
    "try:\n",
    "    a = int(input(\"Tell me one number\"))\n",
    "    b = int(input(\"Tell me another number\"))\n",
    "    print(a/b)\n",
    "except:\n",
    "    print(\"Bug in user input\")"
   ]
  },
  {
   "cell_type": "code",
   "execution_count": 4,
   "id": "ef7e39ed",
   "metadata": {},
   "outputs": [
    {
     "name": "stdout",
     "output_type": "stream",
     "text": [
      "could not convert to a number.\n"
     ]
    }
   ],
   "source": [
    "try:\n",
    "    a = int(input(\"tell me a number\"))\n",
    "    b = int(input(\"tell me another number\"))\n",
    "    print(\"a/b =\", a/b)\n",
    "    print(\"a+b =\", a+b)\n",
    "except ValueError:\n",
    "    print(\"could not convert to a number.\")\n",
    "except ZeroDivisionError:\n",
    "    print(\"can't devide by zero\")\n",
    "    print(\"a/b = infinity\")\n",
    "    print(\"a+b =\", a+b)\n",
    "except:\n",
    "    print(\"something went wrong\")"
   ]
  },
  {
   "cell_type": "code",
   "execution_count": 6,
   "id": "2912740a",
   "metadata": {},
   "outputs": [
    {
     "name": "stdout",
     "output_type": "stream",
     "text": [
      "6\n"
     ]
    },
    {
     "ename": "ValueError",
     "evalue": "you can't character to int",
     "output_type": "error",
     "traceback": [
      "\u001b[0;31m---------------------------------------------------------------------------\u001b[0m",
      "\u001b[0;31mValueError\u001b[0m                                Traceback (most recent call last)",
      "Cell \u001b[0;32mIn[6], line 9\u001b[0m, in \u001b[0;36msum_digits\u001b[0;34m(s)\u001b[0m\n\u001b[1;32m      8\u001b[0m \u001b[38;5;28;01mtry\u001b[39;00m:\n\u001b[0;32m----> 9\u001b[0m     val \u001b[38;5;241m=\u001b[39m \u001b[38;5;28mint\u001b[39m(char)\n\u001b[1;32m     10\u001b[0m     total \u001b[38;5;241m+\u001b[39m\u001b[38;5;241m=\u001b[39m val\n",
      "\u001b[0;31mValueError\u001b[0m: invalid literal for int() with base 10: 'a'",
      "\nDuring handling of the above exception, another exception occurred:\n",
      "\u001b[0;31mValueError\u001b[0m                                Traceback (most recent call last)",
      "Cell \u001b[0;32mIn[6], line 18\u001b[0m\n\u001b[1;32m     16\u001b[0m \u001b[38;5;28mprint\u001b[39m(sum_digits(\u001b[38;5;124m'\u001b[39m\u001b[38;5;124m123\u001b[39m\u001b[38;5;124m'\u001b[39m))\n\u001b[1;32m     17\u001b[0m \u001b[38;5;66;03m# breaks with this input\u001b[39;00m\n\u001b[0;32m---> 18\u001b[0m \u001b[38;5;28mprint\u001b[39m(sum_digits(\u001b[38;5;124m'\u001b[39m\u001b[38;5;124m123abc\u001b[39m\u001b[38;5;124m'\u001b[39m))\n",
      "Cell \u001b[0;32mIn[6], line 12\u001b[0m, in \u001b[0;36msum_digits\u001b[0;34m(s)\u001b[0m\n\u001b[1;32m     10\u001b[0m         total \u001b[38;5;241m+\u001b[39m\u001b[38;5;241m=\u001b[39m val\n\u001b[1;32m     11\u001b[0m     \u001b[38;5;28;01mexcept\u001b[39;00m:\n\u001b[0;32m---> 12\u001b[0m         \u001b[38;5;28;01mraise\u001b[39;00m \u001b[38;5;167;01mValueError\u001b[39;00m(\u001b[38;5;124m\"\u001b[39m\u001b[38;5;124myou can\u001b[39m\u001b[38;5;124m'\u001b[39m\u001b[38;5;124mt character to int\u001b[39m\u001b[38;5;124m\"\u001b[39m)\n\u001b[1;32m     13\u001b[0m \u001b[38;5;28;01mreturn\u001b[39;00m total\n",
      "\u001b[0;31mValueError\u001b[0m: you can't character to int"
     ]
    }
   ],
   "source": [
    "def sum_digits(s):\n",
    "    \"\"\"\n",
    "    s: is a non-empty string, that contain digits\n",
    "    return sum of all character within that string\n",
    "    \"\"\"\n",
    "    total = 0\n",
    "    for char in s:\n",
    "        try:\n",
    "            val = int(char)\n",
    "            total += val\n",
    "        except:\n",
    "            raise ValueError(\"you can't character to int\")\n",
    "    return total\n",
    "\n",
    "# works fine with this input\n",
    "print(sum_digits('123'))\n",
    "# breaks with this input\n",
    "print(sum_digits('123abc'))"
   ]
  },
  {
   "cell_type": "code",
   "execution_count": null,
   "id": "f8fba60d",
   "metadata": {},
   "outputs": [],
   "source": [
    "# Write with use of List comprehension [expression for elements in iterable if condition]\n",
    "def pairwise_divide(Lnum, Ldenom):\n",
    "    \"\"\"\n",
    "    Lnum and Ldenom are non-empty lists of equal length containing numbers.\n",
    "\n",
    "    Returns a new list whose elements are the pairwise\n",
    "    division of an element in Lnum by an elemnt in Ldenom\n",
    "\n",
    "    Raise a ValueError if Lnum contain 0.\n",
    "    \"\"\"\n",
    "    new_list = []\n",
    "    for i in range(len(Lnum)):\n",
    "        try:\n",
    "            new_list.append(Lnum[i]/Ldenom[i])\n",
    "        except:\n",
    "            raise ValueError(\"You have zero in your second input\")\n",
    "\n",
    "\n",
    "# Unit-test, testcase\n",
    "L1 = [4, 5, 6]\n",
    "L2 = [1, 2, 3]\n",
    "pairwise_divide(L1, L2) # print(4.0, 2.5, 2.0)\n",
    "\n",
    "L1 = [4, 5, 6]\n",
    "L2 = [1, 0, 3]\n",
    "pairwise_divide(L1, L2) # raise ErrorValue "
   ]
  },
  {
   "cell_type": "code",
   "execution_count": 9,
   "id": "94d1d842",
   "metadata": {},
   "outputs": [
    {
     "ename": "ValueError",
     "evalue": "You have zero in your second input",
     "output_type": "error",
     "traceback": [
      "\u001b[0;31m---------------------------------------------------------------------------\u001b[0m",
      "\u001b[0;31mZeroDivisionError\u001b[0m                         Traceback (most recent call last)",
      "Cell \u001b[0;32mIn[9], line 12\u001b[0m, in \u001b[0;36mpairwise_divide\u001b[0;34m(Lnum, Ldenom)\u001b[0m\n\u001b[1;32m     11\u001b[0m \u001b[38;5;28;01mtry\u001b[39;00m:\n\u001b[0;32m---> 12\u001b[0m     new_list \u001b[38;5;241m=\u001b[39m [Lnum[i]\u001b[38;5;241m/\u001b[39mLdenom[i] \u001b[38;5;28;01mfor\u001b[39;00m i \u001b[38;5;129;01min\u001b[39;00m \u001b[38;5;28mrange\u001b[39m(\u001b[38;5;28mlen\u001b[39m(Lnum))]\n\u001b[1;32m     13\u001b[0m \u001b[38;5;28;01mexcept\u001b[39;00m:\n",
      "\u001b[0;31mZeroDivisionError\u001b[0m: division by zero",
      "\nDuring handling of the above exception, another exception occurred:\n",
      "\u001b[0;31mValueError\u001b[0m                                Traceback (most recent call last)",
      "Cell \u001b[0;32mIn[9], line 24\u001b[0m\n\u001b[1;32m     22\u001b[0m L1 \u001b[38;5;241m=\u001b[39m [\u001b[38;5;241m4\u001b[39m, \u001b[38;5;241m5\u001b[39m, \u001b[38;5;241m6\u001b[39m]\n\u001b[1;32m     23\u001b[0m L2 \u001b[38;5;241m=\u001b[39m [\u001b[38;5;241m1\u001b[39m, \u001b[38;5;241m0\u001b[39m, \u001b[38;5;241m3\u001b[39m]\n\u001b[0;32m---> 24\u001b[0m pairwise_divide(L1, L2)\n",
      "Cell \u001b[0;32mIn[9], line 14\u001b[0m, in \u001b[0;36mpairwise_divide\u001b[0;34m(Lnum, Ldenom)\u001b[0m\n\u001b[1;32m     12\u001b[0m     new_list \u001b[38;5;241m=\u001b[39m [Lnum[i]\u001b[38;5;241m/\u001b[39mLdenom[i] \u001b[38;5;28;01mfor\u001b[39;00m i \u001b[38;5;129;01min\u001b[39;00m \u001b[38;5;28mrange\u001b[39m(\u001b[38;5;28mlen\u001b[39m(Lnum))]\n\u001b[1;32m     13\u001b[0m \u001b[38;5;28;01mexcept\u001b[39;00m:\n\u001b[0;32m---> 14\u001b[0m     \u001b[38;5;28;01mraise\u001b[39;00m \u001b[38;5;167;01mValueError\u001b[39;00m(\u001b[38;5;124m\"\u001b[39m\u001b[38;5;124mYou have zero in your second input\u001b[39m\u001b[38;5;124m\"\u001b[39m)\n",
      "\u001b[0;31mValueError\u001b[0m: You have zero in your second input"
     ]
    }
   ],
   "source": [
    "def pairwise_divide(Lnum, Ldenom):\n",
    "    \"\"\"\n",
    "    Lnum and Ldenom are non-empty lists of equal length containing numbers.\n",
    "\n",
    "    Returns a new list whose elements are the pairwise\n",
    "    division of an element in Lnum by an elemnt in Ldenom\n",
    "\n",
    "    Raise a ValueError if Lnum contain 0.\n",
    "    \"\"\"\n",
    "    new_list = []\n",
    "    try:\n",
    "        new_list = [Lnum[i]/Ldenom[i] for i in range(len(Lnum))]\n",
    "    except:\n",
    "        raise ValueError(\"You have zero in your second input\")\n",
    "\n",
    "\n",
    "# Unit-test, testcase\n",
    "L1 = [4, 5, 6]\n",
    "L2 = [1, 2, 3]\n",
    "pairwise_divide(L1, L2) # print(4.0, 2.5, 2.0)\n",
    "\n",
    "L1 = [4, 5, 6]\n",
    "L2 = [1, 0, 3]\n",
    "pairwise_divide(L1, L2) # raise ErrorValue "
   ]
  },
  {
   "cell_type": "code",
   "execution_count": null,
   "id": "83f8b931",
   "metadata": {},
   "outputs": [],
   "source": [
    "# With assertion in use\n",
    "def pairwise_divide(Lnum, Ldenom):\n",
    "    \"\"\"\n",
    "    Lnum and Ldenom are non-empty lists of equal length containing numbers.\n",
    "\n",
    "    Returns a new list whose elements are the pairwise\n",
    "    division of an element in Lnum by an elemnt in Ldenom\n",
    "\n",
    "    Raise a ValueError if Lnum contain 0.\n",
    "    \"\"\"\n",
    "    assert len(Lnum) == len(Ldenom) and len(Lnum)>0 and len(Ldenom) > 0, \"Wrong input\"\n",
    "    # other way around\n",
    "    # assert len(Lnum) == len(Ldenom), 'length diff'\n",
    "    # assert len(Lnum)!=0 and len(Ldenom)!=0, 'empty list'\n",
    "    new_list = []\n",
    "    for i in range(len(Lnum)):\n",
    "        try:\n",
    "            new_list.append(Lnum[i]/Ldenom[i])\n",
    "        except:\n",
    "            raise ValueError(\"You have zero in your second input\")\n",
    "    return new_list\n",
    "\n",
    "\n",
    "# Unit-test, testcase\n",
    "# L1 = [4, 5, 6]\n",
    "# L2 = [1, 2, 3]\n",
    "# pairwise_divide(L1, L2) # print(4.0, 2.5, 2.0)\n",
    "# print(pairwise_divide(L1, L2))\n",
    "\n",
    "# L1 = [4, 5, 6]\n",
    "# L2 = [1, 0, 3]\n",
    "# pairwise_divide(L1, L2) # raise ErrorValue \n",
    "# print(pairwise_divide(L1, L2))\n",
    "\n",
    "L1 = [4, 5, 6]\n",
    "L2 = [1, 2]\n",
    "pairwise_divide(L1, L2)\n",
    "print(pairwise_divide(L1, L2))"
   ]
  },
  {
   "cell_type": "code",
   "execution_count": 11,
   "id": "646b8e33",
   "metadata": {},
   "outputs": [
    {
     "name": "stdout",
     "output_type": "stream",
     "text": [
      "6\n"
     ]
    },
    {
     "ename": "AssertionError",
     "evalue": "Wrong input",
     "output_type": "error",
     "traceback": [
      "\u001b[0;31m---------------------------------------------------------------------------\u001b[0m",
      "\u001b[0;31mAssertionError\u001b[0m                            Traceback (most recent call last)",
      "Cell \u001b[0;32mIn[11], line 22\u001b[0m\n\u001b[1;32m     18\u001b[0m \u001b[38;5;28mprint\u001b[39m(sum_digits(\u001b[38;5;124m'\u001b[39m\u001b[38;5;124m123\u001b[39m\u001b[38;5;124m'\u001b[39m))\n\u001b[1;32m     19\u001b[0m \u001b[38;5;66;03m# breaks with this input - test case for character input, exception\u001b[39;00m\n\u001b[1;32m     20\u001b[0m \u001b[38;5;66;03m# print(sum_digits('123abc'))\u001b[39;00m\n\u001b[1;32m     21\u001b[0m \u001b[38;5;66;03m# test case for assertion test\u001b[39;00m\n\u001b[0;32m---> 22\u001b[0m \u001b[38;5;28mprint\u001b[39m(sum_digits(\u001b[38;5;124m'\u001b[39m\u001b[38;5;124m'\u001b[39m))\n",
      "Cell \u001b[0;32mIn[11], line 7\u001b[0m, in \u001b[0;36msum_digits\u001b[0;34m(s)\u001b[0m\n\u001b[1;32m      2\u001b[0m \u001b[38;5;28;01mdef\u001b[39;00m \u001b[38;5;21msum_digits\u001b[39m(s):\n\u001b[1;32m      3\u001b[0m \u001b[38;5;250m    \u001b[39m\u001b[38;5;124;03m\"\"\"\u001b[39;00m\n\u001b[1;32m      4\u001b[0m \u001b[38;5;124;03m    s: is a non-empty string, that contain digits\u001b[39;00m\n\u001b[1;32m      5\u001b[0m \u001b[38;5;124;03m    return sum of all character within that string\u001b[39;00m\n\u001b[1;32m      6\u001b[0m \u001b[38;5;124;03m    \"\"\"\u001b[39;00m\n\u001b[0;32m----> 7\u001b[0m     \u001b[38;5;28;01massert\u001b[39;00m \u001b[38;5;28mlen\u001b[39m(s) \u001b[38;5;241m!=\u001b[39m \u001b[38;5;241m0\u001b[39m,\u001b[38;5;124m'\u001b[39m\u001b[38;5;124mWrong input\u001b[39m\u001b[38;5;124m'\u001b[39m\n\u001b[1;32m      8\u001b[0m     total \u001b[38;5;241m=\u001b[39m \u001b[38;5;241m0\u001b[39m\n\u001b[1;32m      9\u001b[0m     \u001b[38;5;28;01mfor\u001b[39;00m char \u001b[38;5;129;01min\u001b[39;00m s:\n",
      "\u001b[0;31mAssertionError\u001b[0m: Wrong input"
     ]
    }
   ],
   "source": [
    "# with assertion in use\n",
    "def sum_digits(s):\n",
    "    \"\"\"\n",
    "    s: is a non-empty string, that contain digits\n",
    "    return sum of all character within that string\n",
    "    \"\"\"\n",
    "    assert len(s) != 0,'Wrong input'\n",
    "    total = 0\n",
    "    for char in s:\n",
    "        try:\n",
    "            val = int(char)\n",
    "            total += val\n",
    "        except:\n",
    "            raise ValueError(\"you can't character to int\")\n",
    "    return total\n",
    "\n",
    "# works fine with this input\n",
    "print(sum_digits('123'))\n",
    "# breaks with this input - test case for character input, exception\n",
    "# print(sum_digits('123abc'))\n",
    "# test case for assertion test\n",
    "print(sum_digits(''))"
   ]
  },
  {
   "cell_type": "code",
   "execution_count": null,
   "id": "bc3ee6e0",
   "metadata": {},
   "outputs": [
    {
     "name": "stdout",
     "output_type": "stream",
     "text": [
      "warning: no grade data\n"
     ]
    },
    {
     "data": {
      "text/plain": [
       "[[['peter', 'parker'], [10.0, 55.0, 85.0], 50.0],\n",
       " [['bruce', 'wayne'], [10.0, 80.0, 75.0], 55.0],\n",
       " [['captain', 'america'], [80.0, 10.0, 96.0], 62.0],\n",
       " [['deadpool'], [], 0.0]]"
      ]
     },
     "execution_count": 14,
     "metadata": {},
     "output_type": "execute_result"
    }
   ],
   "source": [
    "def get_stats(class_list):\n",
    "    new_stats = []\n",
    "    for stu in class_list:\n",
    "        new_stats.append([stu[0], stu[1], avg(stu[1])])\n",
    "    return new_stats\n",
    "\n",
    "# def avg(grades):\n",
    "#     try:\n",
    "#         return sum(grades)/len(grades)\n",
    "#     except:\n",
    "#         print('warning: no grade data')\n",
    "#         return 0.0\n",
    "\n",
    "# other way\n",
    "def avg(grades):\n",
    "    assert len(grades) != 0, 'no grade data'\n",
    "    return sum(grades)/len(grades)\n",
    "\n",
    "student_list = [[['peter', 'parker'], [10.0, 55.0, 85.0]], [['bruce', 'wayne'], [10.0, 80.0, 75.0]], [['captain', 'america'], [80.0, 10.0, 96.0]], [['deadpool'], []]]\n",
    "get_stats(student_list)"
   ]
  }
 ],
 "metadata": {
  "kernelspec": {
   "display_name": "base",
   "language": "python",
   "name": "python3"
  },
  "language_info": {
   "codemirror_mode": {
    "name": "ipython",
    "version": 3
   },
   "file_extension": ".py",
   "mimetype": "text/x-python",
   "name": "python",
   "nbconvert_exporter": "python",
   "pygments_lexer": "ipython3",
   "version": "3.12.2"
  }
 },
 "nbformat": 4,
 "nbformat_minor": 5
}
