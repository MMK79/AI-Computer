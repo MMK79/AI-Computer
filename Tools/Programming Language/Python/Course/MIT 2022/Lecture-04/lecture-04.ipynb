{
 "cells": [
  {
   "cell_type": "code",
   "execution_count": 1,
   "metadata": {},
   "outputs": [
    {
     "name": "stdout",
     "output_type": "stream",
     "text": [
      "5\n"
     ]
    }
   ],
   "source": [
    "mysum = 0\n",
    "for i in range(5, 11, 2):\n",
    "    mysum += i\n",
    "    if mysum == 5:\n",
    "        break\n",
    "        mysum += 1\n",
    "print(mysum)"
   ]
  },
  {
   "cell_type": "code",
   "execution_count": 2,
   "metadata": {},
   "outputs": [
    {
     "name": "stdout",
     "output_type": "stream",
     "text": [
      "0\n",
      "2\n",
      "4\n"
     ]
    }
   ],
   "source": [
    "even_number_count = 0\n",
    "for i in range(5):\n",
    "    if i%2 == 0:\n",
    "        even_number_count += 1\n",
    "        print(i)"
   ]
  },
  {
   "cell_type": "code",
   "execution_count": 9,
   "metadata": {},
   "outputs": [
    {
     "name": "stdout",
     "output_type": "stream",
     "text": [
      "0\n",
      "2\n",
      "4\n",
      "3\n"
     ]
    }
   ],
   "source": [
    "start = int(input(\"What is my range start? \"))\n",
    "stop = int(input(\"What is my range stop? \"))\n",
    "step = int(input(\"What is my range step? \"))\n",
    "even_number_count = 0\n",
    "for i in range(start, stop, step):\n",
    "    if i%2 == 0:\n",
    "        even_number_count += 1\n",
    "        print(i)\n",
    "print(even_number_count)"
   ]
  },
  {
   "cell_type": "markdown",
   "metadata": {},
   "source": [
    "3 program same result, different syntax"
   ]
  },
  {
   "cell_type": "code",
   "execution_count": null,
   "metadata": {},
   "outputs": [],
   "source": [
    "s = \"demo loops - fruit loops\"\n",
    "for index in range(len(s)):\n",
    "    if s[index] == 'i' or s[index] == 'u':\n",
    "        print(\"There is an i or u\")"
   ]
  },
  {
   "cell_type": "code",
   "execution_count": null,
   "metadata": {},
   "outputs": [],
   "source": [
    "for char in s:\n",
    "    if char == 'i' or char == 'u':\n",
    "        print(\"There is an i or u\")"
   ]
  },
  {
   "cell_type": "code",
   "execution_count": null,
   "metadata": {},
   "outputs": [],
   "source": [
    "for char in s:\n",
    "    if char in 'iu': #more pythonic\n",
    "        print(\"There is an i or u\")"
   ]
  },
  {
   "cell_type": "markdown",
   "metadata": {},
   "source": [
    "Cheerleader"
   ]
  },
  {
   "cell_type": "code",
   "execution_count": 10,
   "metadata": {},
   "outputs": [
    {
     "name": "stdout",
     "output_type": "stream",
     "text": [
      "give me an M: M\n",
      "give me an a: a\n",
      "give me an s: s\n",
      "give me an o: o\n",
      "give me a u: u\n",
      "give me a d: d\n",
      "What does it spell?\n",
      "Masoud !!!\n",
      "Masoud !!!\n",
      "Masoud !!!\n",
      "Masoud !!!\n",
      "Masoud !!!\n"
     ]
    }
   ],
   "source": [
    "an_letter = 'aefhilmnorsxAEFHILMNORSX'\n",
    "word = input('I will cheer for you! Give Enter a word: ')\n",
    "times = int(input(\"Enthusiasm level (1-10): \"))\n",
    "\n",
    "for w in word:\n",
    "    if w in an_letter:\n",
    "        print(f\"give me an {w}: {w}\")\n",
    "    else:\n",
    "        print(f\"give me a {w}: {w}\")\n",
    "print(\"What does it spell?\")\n",
    "for i in range(times):\n",
    "    print(word, \"!!!\")"
   ]
  },
  {
   "cell_type": "code",
   "execution_count": 21,
   "metadata": {},
   "outputs": [
    {
     "name": "stdout",
     "output_type": "stream",
     "text": [
      "hello\n",
      "h for 1, 1\n",
      "he for 2, 2\n",
      "hel for 3, 3\n",
      "hel for 4, 3\n",
      "helo for 5, 4\n",
      "4\n"
     ]
    }
   ],
   "source": [
    "step_count = 0\n",
    "count_unique = 0\n",
    "new_word = ''\n",
    "word = input(\"Enter a word: \")\n",
    "print(word)\n",
    "for char in word:\n",
    "    if char in new_word:\n",
    "        step_count += 1\n",
    "        print(f\"{new_word} for {step_count}, {count_unique}\")\n",
    "    else:\n",
    "        new_word += char\n",
    "        count_unique += 1\n",
    "        step_count += 1\n",
    "        print(f\"{new_word} for {step_count}, {count_unique}\")\n",
    "print(count_unique)"
   ]
  },
  {
   "cell_type": "code",
   "execution_count": 23,
   "metadata": {},
   "outputs": [
    {
     "name": "stdout",
     "output_type": "stream",
     "text": [
      "2\n",
      "2\n"
     ]
    }
   ],
   "source": [
    "word = input('Enter your word')\n",
    "seen = ''\n",
    "count_unique = 0\n",
    "for char in word:\n",
    "    if char not in seen:\n",
    "        seen += char\n",
    "        count_unique += 1\n",
    "print(count_unique) # instead of count_unique you can do print(len(seen))\n",
    "print(len(seen))\n",
    "        "
   ]
  },
  {
   "cell_type": "code",
   "execution_count": 44,
   "metadata": {},
   "outputs": [
    {
     "name": "stdout",
     "output_type": "stream",
     "text": [
      "25100 is not a perfect square, and its root is between 158 and 159\n"
     ]
    }
   ],
   "source": [
    "# Perfect square root\n",
    "# Guess-and-Check with While Loop\n",
    "# x = int(input(\"Enter a positive number: \"))\n",
    "x = 25\n",
    "while x < 0:\n",
    "    x = int(input(\"only Enter a positive number: \"))\n",
    "guess = 0\n",
    "while guess*guess < x:\n",
    "    guess += 1\n",
    "if guess*guess == x:\n",
    "    print(f\"{guess} is your root and {x} is a perfect square\")\n",
    "else:\n",
    "    print(f'{x} is not a perfect square, and its root is between {guess-1} and {guess}')"
   ]
  },
  {
   "cell_type": "code",
   "execution_count": 33,
   "metadata": {},
   "outputs": [],
   "source": [
    "x = int(input(\"Enter a positive number: \"))\n",
    "neg_flag = False\n",
    "if x < 0:\n",
    "    neg_flag = True\n",
    "    if neg_flag == True:\n",
    "        print(f\"do you mean {-x}?\")"
   ]
  },
  {
   "cell_type": "code",
   "execution_count": 34,
   "metadata": {},
   "outputs": [
    {
     "name": "stdout",
     "output_type": "stream",
     "text": [
      "do you mean 10?\n"
     ]
    }
   ],
   "source": [
    "x = int(input(\"Enter a positive number: \"))\n",
    "neg_flag = False\n",
    "if x < 0:\n",
    "    neg_flag = True\n",
    "if neg_flag == True:\n",
    "    print(f\"do you mean {-x}?\")"
   ]
  },
  {
   "cell_type": "code",
   "execution_count": null,
   "metadata": {},
   "outputs": [
    {
     "name": "stdout",
     "output_type": "stream",
     "text": [
      "0\n",
      "2\n",
      "4\n"
     ]
    }
   ],
   "source": [
    "even_number_count = 0\n",
    "for i in range(5):\n",
    "    if i%2 == 0:\n",
    "        even_number_count += 1\n",
    "        print(i)"
   ]
  },
  {
   "cell_type": "code",
   "execution_count": 43,
   "metadata": {},
   "outputs": [
    {
     "name": "stdout",
     "output_type": "stream",
     "text": [
      "25 is perfect square, and it's root is 5\n"
     ]
    }
   ],
   "source": [
    "# Guess-and-Check with For Loop\n",
    "# Perfect square root\n",
    "# x = int(input(\"Enter positive number: \"))\n",
    "x = 25\n",
    "for i in range(x): # you need to have x+1 instead of x, cause now if the user enter 1 you will return nothing, 1 is a perfect squre itself!\n",
    "    if i**2 < x:\n",
    "        i += 1\n",
    "    elif i**2 == x:\n",
    "        print(f\"{x} is perfect square, and it's root is {i}\")\n",
    "        break\n",
    "    elif i**2 > x:\n",
    "        print(f\"{x} is not a perfect square, but it's root is between {i-1}, {i}\")\n",
    "        break"
   ]
  },
  {
   "cell_type": "code",
   "execution_count": 39,
   "metadata": {},
   "outputs": [
    {
     "name": "stdout",
     "output_type": "stream",
     "text": [
      "6\n"
     ]
    }
   ],
   "source": [
    "secret_number = 6\n",
    "for i in range(11):\n",
    "    if i == secret_number:\n",
    "        print(secret_number)\n",
    "    else:\n",
    "        pass"
   ]
  },
  {
   "cell_type": "code",
   "execution_count": 64,
   "metadata": {},
   "outputs": [
    {
     "name": "stdout",
     "output_type": "stream",
     "text": [
      "I didn't found it!\n"
     ]
    }
   ],
   "source": [
    "bsecret_number = 5\n",
    "for i in range(11):\n",
    "    if i == secret_number:\n",
    "        print(secret_number)\n",
    "    else:\n",
    "        print(\"I didn't found it!\")\n",
    "        break"
   ]
  },
  {
   "cell_type": "code",
   "execution_count": 70,
   "metadata": {},
   "outputs": [
    {
     "name": "stdout",
     "output_type": "stream",
     "text": [
      "I didn't found\n"
     ]
    }
   ],
   "source": [
    "secret_number = 5\n",
    "found_flag = False\n",
    "for i in range(11):\n",
    "    if i == secret_number:\n",
    "        found_flag = True\n",
    "        print(secret_number)\n",
    "if i != secret_number and found_flag == False: # this part \"i != secret_number and\" is useless\n",
    "    print(\"I didn't found\")"
   ]
  },
  {
   "cell_type": "code",
   "execution_count": null,
   "metadata": {},
   "outputs": [],
   "source": [
    "secret_number = 5\n",
    "found_flag = False\n",
    "for i in range(11):\n",
    "    if i == secret_number:\n",
    "        found_flag = True\n",
    "        print(secret_number)\n",
    "if found_flag == False:\n",
    "    print(\"I didn't found\")"
   ]
  },
  {
   "cell_type": "code",
   "execution_count": 73,
   "metadata": {},
   "outputs": [
    {
     "name": "stdout",
     "output_type": "stream",
     "text": [
      "I didn't found\n"
     ]
    }
   ],
   "source": [
    "secret_number = 51\n",
    "found_flag = False\n",
    "for i in range(11):\n",
    "    if i == secret_number:\n",
    "        found_flag = True\n",
    "        print(secret_number)\n",
    "if not found_flag:\n",
    "    print(\"I didn't found\")"
   ]
  },
  {
   "cell_type": "code",
   "execution_count": 75,
   "metadata": {},
   "outputs": [
    {
     "name": "stdout",
     "output_type": "stream",
     "text": [
      "Cube root of -125 is -5\n"
     ]
    }
   ],
   "source": [
    "cube = int(input(\"Enter positive number: \"))\n",
    "\n",
    "for guess in range(abs(cube)+1):\n",
    "    if guess**3 == abs(cube):\n",
    "        if cube < 0:\n",
    "            guess = - guess\n",
    "        print(f\"Cube root of {cube} is {guess}\")"
   ]
  },
  {
   "cell_type": "code",
   "execution_count": 78,
   "metadata": {},
   "outputs": [
    {
     "name": "stdout",
     "output_type": "stream",
     "text": [
      "Cube root of -125 is -5\n"
     ]
    }
   ],
   "source": [
    "cube = int(input(\"Enter an integer: \"))\n",
    "\n",
    "for guess in range(abs(cube) +1):\n",
    "    if guess**3 >= abs(cube):\n",
    "        break\n",
    "if guess**3 != abs(cube):\n",
    "    print(f\"{cube} is not a perfect cube\")\n",
    "else:\n",
    "    if cube < 0:\n",
    "        guess = - guess\n",
    "    print(f\"Cube root of {cube} is {guess}\")"
   ]
  },
  {
   "cell_type": "code",
   "execution_count": 79,
   "metadata": {},
   "outputs": [
    {
     "name": "stdout",
     "output_type": "stream",
     "text": [
      "Alyssa sold 3 tickets\n",
      "Ben sold 1 tickets\n",
      "Cindy sold 6 tickects\n"
     ]
    }
   ],
   "source": [
    "for alyssa in range(11):\n",
    "    for ben in range(11):\n",
    "        for cindy in range(11):\n",
    "            total = (alyssa + ben + cindy == 10)\n",
    "            two_less = (ben == alyssa-2)\n",
    "            twice = (cindy == 2*alyssa)\n",
    "            if total and two_less and twice:\n",
    "                print(f\"Alyssa sold {alyssa} tickets\")\n",
    "                print(f\"Ben sold {ben} tickets\")\n",
    "                print(f\"Cindy sold {cindy} tickects\")"
   ]
  },
  {
   "cell_type": "code",
   "execution_count": 81,
   "metadata": {},
   "outputs": [
    {
     "name": "stdout",
     "output_type": "stream",
     "text": [
      "Alyssa sold 255 tickets\n",
      "Ben sold 235 tickets\n",
      "Cindy sold 510 tickects\n"
     ]
    }
   ],
   "source": [
    "for alyssa in range (1001):\n",
    "    ben = alyssa - 20\n",
    "    cindy = alyssa*2\n",
    "    total = (cindy + ben + alyssa == 1000)\n",
    "    if total:\n",
    "        print(f\"Alyssa sold {alyssa} tickets\")\n",
    "        print(f\"Ben sold {ben} tickets\")\n",
    "        print(f\"Cindy sold {cindy} tickects\")"
   ]
  },
  {
   "cell_type": "code",
   "execution_count": 82,
   "metadata": {},
   "outputs": [
    {
     "name": "stdout",
     "output_type": "stream",
     "text": [
      "False\n",
      "0.9999999999999999 == 1.0\n"
     ]
    }
   ],
   "source": [
    "# Float Point Error\n",
    "x = 0\n",
    "for i in range(10):\n",
    "    x += 0.1\n",
    "print(x == 1)\n",
    "print(x, '==', 10*0.1)"
   ]
  },
  {
   "cell_type": "code",
   "execution_count": 84,
   "metadata": {},
   "outputs": [
    {
     "name": "stdout",
     "output_type": "stream",
     "text": [
      "10111100011\n"
     ]
    }
   ],
   "source": [
    "# Convert Decimal to Binary\n",
    "num = int(input(\"Enter your number: \"))\n",
    "result = ''\n",
    "if num == 0:\n",
    "    result = '0'\n",
    "while num > 0:\n",
    "    result = str(num%2) + result\n",
    "    num = num//2\n",
    "print(result)"
   ]
  }
 ],
 "metadata": {
  "kernelspec": {
   "display_name": "base",
   "language": "python",
   "name": "python3"
  },
  "language_info": {
   "codemirror_mode": {
    "name": "ipython",
    "version": 3
   },
   "file_extension": ".py",
   "mimetype": "text/x-python",
   "name": "python",
   "nbconvert_exporter": "python",
   "pygments_lexer": "ipython3",
   "version": "3.11.7"
  }
 },
 "nbformat": 4,
 "nbformat_minor": 2
}
