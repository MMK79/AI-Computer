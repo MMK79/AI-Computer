{
 "cells": [
  {
   "cell_type": "code",
   "execution_count": 9,
   "metadata": {},
   "outputs": [
    {
     "name": "stdout",
     "output_type": "stream",
     "text": [
      "[4, 5, 6]\n",
      "[[1, 2, 3], [4, 5, 6]]\n"
     ]
    }
   ],
   "source": [
    "# Make a copy of a list object\n",
    "Lorginal = [4,5,6]\n",
    "Lnew = Lorginal[:]\n",
    "print(Lnew)\n",
    "\n",
    "L1 = [1,2,3]\n",
    "L2 = [4,5,6]\n",
    "L_original = [L1, L2]\n",
    "L_copy = L_original[:]\n",
    "print(L_copy)"
   ]
  },
  {
   "cell_type": "code",
   "execution_count": 38,
   "metadata": {},
   "outputs": [
    {
     "name": "stdout",
     "output_type": "stream",
     "text": [
      "[1]\n"
     ]
    }
   ],
   "source": [
    "def remove_all(L, e):\n",
    "    \"\"\"Mutates L to remove all elements in L that are equal to e\n",
    "    Return None\n",
    "\n",
    "    Args:\n",
    "        L (list): \n",
    "        e (): \n",
    "     \"\"\"\n",
    "    new_list = L[:]\n",
    "    L.clear()\n",
    "    for i in new_list:\n",
    "        if i != e:\n",
    "            L.append(i)            \n",
    "    \n",
    "    # For better understanding\n",
    "    # new_list = []\n",
    "    # for i in L:\n",
    "    #     print(i)\n",
    "    #     if i != e:\n",
    "    #         new_list.append(i)\n",
    "    # L.clear()\n",
    "    # L = new_list[:]\n",
    "    # print(L)\n",
    "    # L.clear()\n",
    "    # L.append(new_list)\n",
    "    # print(L)\n",
    "                     \n",
    "    \n",
    "L = [1,2,2,2]\n",
    "    \n",
    "remove_all(L, 2)  \n",
    "print(L)"
   ]
  },
  {
   "cell_type": "code",
   "execution_count": 45,
   "metadata": {},
   "outputs": [
    {
     "name": "stdout",
     "output_type": "stream",
     "text": [
      "[2, 1, 3, 6, 3, 7, 0]\n",
      "[1, 3, 6, 3, 7, 0]\n",
      "[1, 6, 3, 7, 0]\n",
      "[1, 3, 7, 0]\n",
      "[1, 3, 7]\n",
      "0\n"
     ]
    }
   ],
   "source": [
    "# Different Remove Operation --> all these function mutate the list\n",
    "# del(L[]) --> Delete element at a specific index\n",
    "# L.pop() --> Remove the last item of the list + will return a deleted value + if you put value in parenthesis it will remove that index\n",
    "# L.remove(element) --> Remove specific element for the first occurance of that element\n",
    "L = [2,1,3,6,3,7,0]\n",
    "print(L)\n",
    "L.remove(2)\n",
    "print(L)\n",
    "L.remove(3)\n",
    "print(L)\n",
    "del(L[1])\n",
    "print(L)\n",
    "a = L.pop()\n",
    "print(L)\n",
    "print(a)"
   ]
  },
  {
   "cell_type": "code",
   "execution_count": 69,
   "metadata": {},
   "outputs": [
    {
     "name": "stdout",
     "output_type": "stream",
     "text": [
      "[2, 1, 6, 7, 0]\n",
      "[]\n"
     ]
    }
   ],
   "source": [
    "def remove_all(L, e):\n",
    "    \"\"\"Retunrs None\n",
    "    Mutates L to remove all elements in L that are equal to e\n",
    "\n",
    "    Args:\n",
    "        L (list): \n",
    "        e (str): \n",
    "    \"\"\"\n",
    "    # With While loop --> completely fine\n",
    "    # while e in L:\n",
    "    #     L.remove(e)\n",
    "    \n",
    "    # With For loop --> have a bug because, if you have that value 2 times at the end of your list, it will miss the last one\n",
    "    # It is tracking till before last one and everything will be ok but when it is like [elem, elem] it mutate the list to [elem] but your\n",
    "    # tracker is going for next and your [elem] stays in list\n",
    "    # Simple = Your item shifting, your pointer not shifting\n",
    "    # for elem in L:\n",
    "    #     if elem == e:\n",
    "    #         L.remove(e)\n",
    "    # fixed version --> create a fix list and mutate your desire list :D\n",
    "    L_copy = L[:]\n",
    "    for elem in L_copy:\n",
    "        if elem == e:\n",
    "            L.remove(e)\n",
    "            \n",
    "        \n",
    "        \n",
    "L = [2,1,3,6,3,7,0,3,3]\n",
    "remove_all(L,3)\n",
    "print(L)\n",
    "L3 = [3,3]\n",
    "remove_all(L3, 3)\n",
    "print(L3)"
   ]
  },
  {
   "cell_type": "code",
   "execution_count": 56,
   "metadata": {},
   "outputs": [
    {
     "name": "stdout",
     "output_type": "stream",
     "text": [
      "[30, 40]\n"
     ]
    }
   ],
   "source": [
    "# Tricky Example 4\n",
    "# A loop iterates over L's elements directly and mutates L by removing elements\n",
    "# Function that returna list, where every element also in a second list is removed\n",
    "# Problem to keep an eye on: don't mutate a list as you are iterating over it\n",
    "def remove_dups(L1, L2):\n",
    "    L1_copy = L1[:]\n",
    "    for e in L1_copy:\n",
    "        if e in L2:\n",
    "            L1.remove(e)\n",
    "\n",
    "L1 = [10, 20 ,30 ,40]\n",
    "L2 = [10, 20 , 50, 60]\n",
    "remove_dups(L1, L2)\n",
    "print(L1)"
   ]
  },
  {
   "cell_type": "code",
   "execution_count": 70,
   "metadata": {},
   "outputs": [
    {
     "name": "stdout",
     "output_type": "stream",
     "text": [
      "La id 1831424338624\n",
      "Lb id 1831433372992\n",
      "L1 id 1831424338624\n",
      "L2 id 1831433372992\n",
      "1831424338624\n",
      "[20, 30, 40]\n"
     ]
    }
   ],
   "source": [
    "# Aliasing --> Different name, same Object\n",
    "# Assingment (= sign) for mutable object create aliases\n",
    "# The actual parameter (from function call) is an alis for the formal parameters(from function defenition) for mutalbe objects\n",
    "def remove_dups(L1, L2): # L1, L2 formal parameters\n",
    "    L1_copy = L1\n",
    "    print('L1 id', id(L1))\n",
    "    print('L2 id', id(L2))\n",
    "    print(id(L1))\n",
    "    for e in L1_copy:\n",
    "        if e in L2:\n",
    "            L1.remove(e)\n",
    "\n",
    "La = [10, 20, 30, 40]\n",
    "print(\"La id\", id(La))\n",
    "Lb = [10, 20, 50, 60]\n",
    "print('Lb id',id(Lb))\n",
    "remove_dups(La, Lb) # La, Lb actual parameters\n",
    "print(La)"
   ]
  },
  {
   "cell_type": "code",
   "execution_count": 71,
   "metadata": {},
   "outputs": [
    {
     "name": "stdout",
     "output_type": "stream",
     "text": [
      "new list: [[1, 2], [3, 4], [5, 6]]\n",
      "Old list: [[1, 2], [3, 4], [5, 6]]\n"
     ]
    }
   ],
   "source": [
    "old_list = [[1,2], [3,4], [5,'foo']]\n",
    "new_list = old_list # Alias\n",
    "\n",
    "new_list[2][1] = 6\n",
    "print(\"new list:\", new_list)\n",
    "print(\"Old list:\", old_list)"
   ]
  },
  {
   "cell_type": "code",
   "execution_count": 82,
   "metadata": {},
   "outputs": [
    {
     "name": "stdout",
     "output_type": "stream",
     "text": [
      "new list: [[1, 2], [3, 4], [6, [2, 3]]]\n",
      "Old list: [[1, 2], [3, 4], [6, [2, 3]]]\n"
     ]
    }
   ],
   "source": [
    "# Shallow copy - top level of the list --> list[:] --> any mutalbe elements are not copied\n",
    "# Copy creates a new data structure, but actual elements are shared\n",
    "old_list = [[1,2], [3,4], [5,[2,3]]]\n",
    "new_list = old_list[:]\n",
    "# new_list = copy.copy(old_list) # copy function from copy library\n",
    "\n",
    "old_list[2][0] = 6\n",
    "print(\"new list:\", new_list)\n",
    "print(\"Old list:\", old_list)\n",
    "# They returning the same result, cause structure is copy but the elements are shared"
   ]
  },
  {
   "cell_type": "code",
   "execution_count": 83,
   "metadata": {},
   "outputs": [
    {
     "name": "stdout",
     "output_type": "stream",
     "text": [
      "new list: [[1, 2], [3, 9], [5, 6]]\n",
      "Old list: [[1, 2], [3, 9], [5, 6], [7, 8]]\n"
     ]
    }
   ],
   "source": [
    "old_list = [[1,2], [3,4], [5,6]]\n",
    "new_list = old_list[:]\n",
    "\n",
    "old_list.append([7,8])\n",
    "old_list[1][1] = 9\n",
    "print(\"new list:\", new_list)\n",
    "print(\"Old list:\", old_list)\n",
    "# Structure is copied but elements are shared"
   ]
  },
  {
   "cell_type": "code",
   "execution_count": 84,
   "metadata": {},
   "outputs": [
    {
     "name": "stdout",
     "output_type": "stream",
     "text": [
      "new list: [[1, 2], [3, 4], [5, 6]]\n",
      "Old list: [[1, 2], [3, 9], [5, 6], [7, 8]]\n"
     ]
    }
   ],
   "source": [
    "# Deep copy\n",
    "import copy\n",
    "\n",
    "old_list = [[1,2], [3,4], [5,6]]\n",
    "new_list = copy.deepcopy(old_list)\n",
    "\n",
    "old_list.append([7,8])\n",
    "old_list[1][1] = 9\n",
    "print(\"new list:\", new_list)\n",
    "print(\"Old list:\", old_list)"
   ]
  }
 ],
 "metadata": {
  "kernelspec": {
   "display_name": "base",
   "language": "python",
   "name": "python3"
  },
  "language_info": {
   "codemirror_mode": {
    "name": "ipython",
    "version": 3
   },
   "file_extension": ".py",
   "mimetype": "text/x-python",
   "name": "python",
   "nbconvert_exporter": "python",
   "pygments_lexer": "ipython3",
   "version": "3.11.7"
  }
 },
 "nbformat": 4,
 "nbformat_minor": 2
}
