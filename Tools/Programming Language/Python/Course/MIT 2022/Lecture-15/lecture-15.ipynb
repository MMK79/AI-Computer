{
 "cells": [
  {
   "cell_type": "code",
   "execution_count": null,
   "id": "7f1a6db6",
   "metadata": {},
   "outputs": [],
   "source": [
    "# Multiplication in Term of Loop \n",
    "# With for loop\n",
    "def mult_for(a, b):\n",
    "    total = 0\n",
    "    for i in range(b):\n",
    "        total += a\n",
    "    return total\n",
    "# With Increase While loop\n",
    "def mult_while_increase(a, b):\n",
    "    total = 0\n",
    "    i = 0\n",
    "    while i < b:\n",
    "        total += a\n",
    "        i += 1\n",
    "    return total\n",
    "\n",
    "# With Decrease While loop\n",
    "def mult_while_decrease(a, b):\n",
    "    total = 0\n",
    "    while b > 0:\n",
    "        total += a\n",
    "        b -= 1\n",
    "    return total\n",
    "\n",
    "# Recursive\n",
    "def mult_recur(a, b):\n",
    "    # Base case\n",
    "    if b == 1:\n",
    "        return a\n",
    "    # Recursive Step\n",
    "    else:\n",
    "        return a + mult_recur(a, b-1)\n",
    "\n",
    "print(mult_for(2, 3))\n",
    "print(mult_while_increase(2, 5))"
   ]
  },
  {
   "cell_type": "code",
   "execution_count": null,
   "id": "88a859ea",
   "metadata": {},
   "outputs": [],
   "source": [
    "# Write power with recursion \n",
    "def power_recur(n, p):\n",
    "    if p == 0:\n",
    "        return 1\n",
    "    # Base case\n",
    "    elif p == 1:\n",
    "        return n\n",
    "    # Recursive step\n",
    "    else:\n",
    "        return n*power_recur(n, p-1)\n",
    "\n",
    "print( power_recur(2, 3) )\n",
    "\n",
    "# Write factorial\n",
    "def fac_recur(n):\n",
    "    # Base case\n",
    "    if n == 1:\n",
    "        return 1\n",
    "    # Recursive step\n",
    "    else:\n",
    "        return n*fac_recur(n-1)\n",
    "\n",
    "print(fac_recur(5))"
   ]
  }
 ],
 "metadata": {
  "kernelspec": {
   "display_name": "base",
   "language": "python",
   "name": "python3"
  },
  "language_info": {
   "name": "python",
   "version": "3.12.2"
  }
 },
 "nbformat": 4,
 "nbformat_minor": 5
}
