{
 "cells": [
  {
   "cell_type": "code",
   "execution_count": null,
   "id": "5a34cb2e",
   "metadata": {},
   "outputs": [],
   "source": [
    "# Without use of Dictionaries\n",
    "def get_grades(student, name_list, grade_list):\n",
    "    i = name_list.index(student)\n",
    "    grade = grade_list[i]\n",
    "    return (student, grade)\n",
    "\n",
    "names = ['Ana', 'John', 'Matt', 'Katy']\n",
    "grades = ['A+', 'B', 'A', 'A']\n",
    "\n",
    "print(get_grades('Ana', names, grades))"
   ]
  },
  {
   "cell_type": "code",
   "execution_count": null,
   "id": "3abd653b",
   "metadata": {},
   "outputs": [],
   "source": [
    "# Alternative, Pretty Complex, list of a lists that contain 3 element, 1 string, 2 list\n",
    "# which each list contain 1 string and one list\n",
    "# Idea of associating data with names\n",
    "# Can't Convert string to variable name in a clean way\n",
    "def get_grades(who, what, data):\n",
    "    for stud in data:\n",
    "        if stud[0] == who:\n",
    "            for info in stud[1:]:\n",
    "                if info[0] == what:\n",
    "                    return who, info \n",
    "\n",
    "eric = ['eric', ['ps', [8, 4, 5]], ['mq', [6, 7]]]\n",
    "ana = ['ana', ['ps', [10, 10, 10]], ['mq', [9, 10]]]\n",
    "john = ['john', ['ps', [7, 6, 5]], ['mq', [8, 5]]]\n",
    "\n",
    "grades = [eric, ana, john]\n",
    "\n",
    "print(get_grades('eric', 'mq', grades))\n",
    "print(get_grades('ana', 'ps', grades))"
   ]
  },
  {
   "cell_type": "code",
   "execution_count": null,
   "id": "7515af5b",
   "metadata": {},
   "outputs": [],
   "source": [
    "# Dictionary playground\n",
    "my_dict = {}\n",
    "d = {4:16}\n",
    "print(d[4])\n",
    "grades = {'Ana':'B', 'Matt':'A', 'John':'B', 'Katy':'A'}\n",
    "grade_convert = {'B':16, 'A':20}\n",
    "print( grade_convert[ grades['Ana'] ] )\n",
    "for entry in grades:\n",
    "    if grades[entry] == 'B':\n",
    "        print(entry)"
   ]
  },
  {
   "cell_type": "code",
   "execution_count": null,
   "id": "9df613d3",
   "metadata": {},
   "outputs": [],
   "source": [
    "def find_grades(grades, students):\n",
    "    \"\"\"\n",
    "    grades is a direct mapping student names (str) to grades (str)\n",
    "    students is a list of student names\n",
    "    Returns a list containing the grades for students in the same order\n",
    "    \"\"\"\n",
    "    # List comprehension\n",
    "    grade_list = [grades[i] for i in students]\n",
    "    return grade_list\n",
    "    # Other way\n",
    "    # grade_list = []\n",
    "    # for i in students:\n",
    "    #     grade_list.append(grades[i])\n",
    "    #     return grade_list\n",
    "\n",
    "grades = {'Ana':'B', 'Matt':'C', 'John':'B', 'Katy':'A'}\n",
    "print(find_grades(grades, ['Matt', 'Katy'])) # return ['C', 'A']"
   ]
  },
  {
   "cell_type": "code",
   "execution_count": null,
   "id": "07939d12",
   "metadata": {},
   "outputs": [
    {
     "name": "stdout",
     "output_type": "stream",
     "text": [
      "{'Ana': 'B', 'Matt': 'C', 'John': 'B', 'Katy': 'A'}\n",
      "{'Ana': 'B', 'Matt': 'C', 'John': 'B', 'Katy': 'A', 'Masuod': 'A'}\n"
     ]
    }
   ],
   "source": [
    "grades = {'Ana':'B', 'Matt':'C', 'John':'B', 'Katy':'A'}\n",
    "print(grades)\n",
    "# Add entry to Dict: Dict_name[Key] = Value\n",
    "grades['Masuod'] = 'A'\n",
    "print(grades)\n",
    "# Change an entry -> same as add, but this time your key already exist\n",
    "grades['Masuod'] = 'B'\n",
    "print(grades)\n",
    "# Delete an entry with del function\n",
    "del( grades['Masuod'] )\n",
    "print(grades)\n",
    "# Check if a key already exist: Key in Dict_name\n",
    "print('Masuod' in grades)\n",
    "print('Ana' in grades)"
   ]
  },
  {
   "cell_type": "code",
   "execution_count": 4,
   "id": "fb564aee",
   "metadata": {},
   "outputs": [
    {
     "name": "stdout",
     "output_type": "stream",
     "text": [
      "{1: 2, 3: 4, 5: 6}\n",
      "{2: 4, 4: 6}\n",
      "True\n",
      "{1: 2, 3: 4, 5: 6}\n",
      "{2: 4, 4: 6}\n",
      "{1: 1, 3: 9, 4: 16, 5: 25}\n",
      "False\n"
     ]
    }
   ],
   "source": [
    "def find_in_L (Ld, k):\n",
    "    \"\"\"\n",
    "    Ld is a list of dictionaries\n",
    "    k is an int\n",
    "    Returns True if k is a key in any dicts of Ld and False otherwise\n",
    "    \"\"\"\n",
    "    for i in Ld:\n",
    "        print(i)\n",
    "        if k in i:\n",
    "            return True\n",
    "    return False\n",
    "\n",
    "d1 = {1:2, 3:4, 5:6}\n",
    "d2 = {2:4, 4:6}\n",
    "d3 = {1:1, 3:9, 4:16, 5:25}\n",
    "\n",
    "print(find_in_L([d1, d2, d3], 2)) # print False\n",
    "print(find_in_L([d1, d2, d3], 25))# print True"
   ]
  },
  {
   "cell_type": "code",
   "execution_count": null,
   "id": "98fda9e5",
   "metadata": {},
   "outputs": [],
   "source": [
    "# Get all keys in a Dict -> an itarable with dect_keys data type\n",
    "grades = {'Ana':'B', 'Matt':'C', 'John':'B', 'Katy':'A'}\n",
    "print(grades.keys())\n",
    "# You can cast it into a list if you want\n",
    "print(list( grades.keys() ))\n",
    "# Get iterable of values in Dict with dect_values data type\n",
    "print(grades.values())\n",
    "# You can cast it into a list if you want\n",
    "print(list( grades.values() ))\n",
    "# Useful one: Iterable over Enteries\n",
    "print(grades.items())\n",
    "# You can cast it into a list if you want\n",
    "print(list( grades.items() ))\n",
    "# Enable us to do something like this, use the power of dict and tuples together\n",
    "for k, v in grades.items():\n",
    "    print(f\"key {k} has value of {v}\")"
   ]
  },
  {
   "cell_type": "code",
   "execution_count": null,
   "id": "53d91fe8",
   "metadata": {},
   "outputs": [],
   "source": [
    "def count_matches(d):\n",
    "    \"\"\"\n",
    "    d is a dictionary\n",
    "    Returns how many enteries in d have the key equal to its value\n",
    "    \"\"\"\n",
    "    # first way\n",
    "    # count = 0\n",
    "    # for k, v in d.items():\n",
    "    #     print(k, v)\n",
    "    #     if k == v:\n",
    "    #          count += 1\n",
    "    # return count\n",
    "    # other way \n",
    "    count = 0\n",
    "    for x in d.keys():\n",
    "        if d[x] == x:\n",
    "            count += 1\n",
    "    return count\n",
    "\n",
    "# test-case\n",
    "d = {1:2, 3:4, 5:6}\n",
    "print(count_matches(d)) # print 0\n",
    "d = {1:2, 'a':'a', 5:5}\n",
    "print(count_matches(d)) # print 2"
   ]
  },
  {
   "cell_type": "code",
   "execution_count": null,
   "id": "adecedca",
   "metadata": {},
   "outputs": [],
   "source": [
    "# Solution with problem at start lecture, now we do it with dict\n",
    "student = {'Ana':{'mq':[5,4,4], 'ps':[10,9,9], 'fin':'B' },\n",
    "           'Bob':{'mq':[6,7,8], 'ps':[8,9,10], 'fin':'A' } }\n",
    "print(student['Ana']['mq'][0])"
   ]
  },
  {
   "cell_type": "code",
   "execution_count": null,
   "id": "9324fc56",
   "metadata": {},
   "outputs": [],
   "source": [
    "def get_average(data, what):\n",
    "    all_data = []\n",
    "    for stud in data.keys():\n",
    "        all_data+=(data[stud][what])\n",
    "    return sum(all_data)/len(all_data)\n",
    "\n",
    "my_d = {'Ana':{'mq':[10], 'ps':[10,10]},\n",
    "        'Bob':{'ps':[7, 8], 'mq':[8]},\n",
    "        'Eric':{'mq':[3], 'ps':[0]}}\n",
    "\n",
    "print(get_average(my_d, 'mq'))"
   ]
  },
  {
   "cell_type": "code",
   "execution_count": 6,
   "id": "0b04f027",
   "metadata": {},
   "outputs": [
    {
     "name": "stdout",
     "output_type": "stream",
     "text": [
      "this is k Ana, this is v {'mq': [5, 4, 4], 'ps': [10, 9, 9], 'fin': 'B'}\n",
      "this is k Bob, this is v {'mq': [6, 7, 8], 'ps': [8, 9, 10], 'fin': 'A'}\n"
     ]
    }
   ],
   "source": [
    "student = {'Ana':{'mq':[5,4,4], 'ps':[10,9,9], 'fin':'B' },\n",
    "           'Bob':{'mq':[6,7,8], 'ps':[8,9,10], 'fin':'A' } }\n",
    "# for k, v in student.items():\n",
    "#     print(f\"this is k {k}, this is v {v}\")\n",
    "for k, v in list(student.items()):\n",
    "    print(f\"this is k {k}, this is v {v}\")"
   ]
  },
  {
   "cell_type": "code",
   "execution_count": null,
   "id": "908e992e",
   "metadata": {},
   "outputs": [],
   "source": [
    "import copy\n",
    "def generate_word_dict(song):\n",
    "    \"\"\" song is a string\n",
    "    Returns a dictionary whose:\n",
    "    * keys are song words\n",
    "    * values are the frequency of each key in song\n",
    "    \"\"\"\n",
    "    song_words = song.lower()\n",
    "    words_list = song_words.split() # Split by space by default\n",
    "    word_dict = {}\n",
    "    # my idea\n",
    "    # for word in words_list:\n",
    "    #     counter = 0\n",
    "    #     for i in words_list:\n",
    "    #         if word == i:\n",
    "    #             counter +=1\n",
    "    #     if word not in word_dict:\n",
    "    #         word_dict[word] = counter\n",
    "    # return word_dict\n",
    "    # other way - better\n",
    "    for w in words_list:\n",
    "        if w in word_dict:\n",
    "            # seen word again, so add one to frequency\n",
    "            word_dict[w] += 1\n",
    "        else:\n",
    "            # first time seeing word, insert a dict entry with freq 1\n",
    "            word_dict[w] = 1\n",
    "    # return is a dict mapping str:int like {'word1':1, 'word2':3}\n",
    "    return word_dict\n",
    "    \n",
    "\n",
    "def find_frequent_word(word_dict):\n",
    "    \"\"\" word_dict is a frequency dict mapping string:int\n",
    "    Using word_dict, returns a tuple of \n",
    "    (list of keys in word_dict with the max freq, max freq)\n",
    "    \"\"\"\n",
    "    frequnt = max(word_dict.values())\n",
    "    frequent_word = []\n",
    "    for k, v in word_dict.items():\n",
    "        if v == frequnt:\n",
    "            frequent_word.append(k)\n",
    "    return frequnt, frequent_word\n",
    "\n",
    "def occurs_often(word_dict, x):\n",
    "    \"\"\" word_dict is a frquency dict\n",
    "        x is an int\n",
    "    Side effect warning, this function mutates word_dict here modifies word_dict.\n",
    "\n",
    "    Returns the list of tuples in order of highest freq to lowest freq > x. \n",
    "    Each tuple is (list of keys in word_dict with some freq, some freq)\n",
    "    \"\"\"\n",
    "    # My way\n",
    "    word_dict_copy = copy.deepcopy(word_dict)\n",
    "    for k, v in word_dict.items():\n",
    "        if v < x:\n",
    "            del(word_dict_copy[k])\n",
    "    word_list = list(word_dict_copy.items())\n",
    "    word_list.sort()\n",
    "    return word_list\n",
    "    # Other way\n",
    "    # freq_list = []\n",
    "    # word_freq_tuple = find_frequent_word(word_dict)\n",
    "    # # repeat for the frequencies greater than 'x'\n",
    "    # while word_freq_tuple[1] > x:\n",
    "    #     # extract most frequent word(s) using function we wrote\n",
    "    #     word_freq_tuple = find_frequent_word(word_dict)\n",
    "    #     # keep track of most common words, append them in order\n",
    "    #     freq_list.append(word_freq_tuple)\n",
    "    #     # remove every entry that matches words in `word_freq_tuple`\n",
    "    #     # so that you are left with next most frequent words\n",
    "    #     for word in word_freq_tuple[0]:\n",
    "    #         del(word_dict[word])\n",
    "    # return freq_list\n",
    "\n",
    "song = \"RAH RAH AH AH AH ROM MAH RO MAH MAH\"\n",
    "\n",
    "word_dict = generate_word_dict(song)\n",
    "# print( generate_word_dict(song) )\n",
    "\n",
    "most_freq = find_frequent_word(word_dict)\n",
    "# print(most_freq)\n",
    "\n",
    "print(occurs_often(word_dict, 2))"
   ]
  }
 ],
 "metadata": {
  "kernelspec": {
   "display_name": "base",
   "language": "python",
   "name": "python3"
  },
  "language_info": {
   "codemirror_mode": {
    "name": "ipython",
    "version": 3
   },
   "file_extension": ".py",
   "mimetype": "text/x-python",
   "name": "python",
   "nbconvert_exporter": "python",
   "pygments_lexer": "ipython3",
   "version": "3.12.2"
  }
 },
 "nbformat": 4,
 "nbformat_minor": 5
}
