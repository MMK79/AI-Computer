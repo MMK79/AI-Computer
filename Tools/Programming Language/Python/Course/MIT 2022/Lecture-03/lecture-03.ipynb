{
 "cells": [
  {
   "cell_type": "code",
   "execution_count": 4,
   "metadata": {},
   "outputs": [
    {
     "name": "stdout",
     "output_type": "stream",
     "text": [
      "You lost in woods\n",
      "You lost in woods\n",
      "You lost in woods\n",
      "You will starve to death like this, try another way!\n",
      "Your out!\n"
     ]
    }
   ],
   "source": [
    "direction = input('Which direction you want to go? left or right?')\n",
    "invalid_input_count = 0\n",
    "wrong_direction_count = 0\n",
    "while direction != 'left' and direction != 'right' and direction != 'Right' and direction != 'Left':\n",
    "    print('invalid input')\n",
    "    invalid_input_count = invalid_input_count + 1\n",
    "    if invalid_input_count > 2:\n",
    "        print('Come on! type the Right input!!!')\n",
    "    direction = input('type Left or Right or left or right?')\n",
    "while direction == \"right\" or direction == \"Right\":\n",
    "    print('You lost in woods')\n",
    "    wrong_direction_count = wrong_direction_count + 1\n",
    "    if wrong_direction_count > 2:\n",
    "        print(\"You will starve to death like this, try another way!\")\n",
    "    direction = input('Which direction you want to go?')\n",
    "print('Your out!')"
   ]
  },
  {
   "cell_type": "code",
   "execution_count": 5,
   "metadata": {},
   "outputs": [
    {
     "name": "stdout",
     "output_type": "stream",
     "text": [
      "5 factorial is equal to 120\n"
     ]
    }
   ],
   "source": [
    "x = int(input(\"Enter the number so I will calculate the factorial of it: \"))\n",
    "n = 1\n",
    "factorial = 1\n",
    "while n <= x:\n",
    "    factorial *= n\n",
    "    n += 1\n",
    "print(f'{x} factorial is equal to {factorial}')"
   ]
  },
  {
   "cell_type": "code",
   "execution_count": 6,
   "metadata": {},
   "outputs": [
    {
     "name": "stdout",
     "output_type": "stream",
     "text": [
      "0\n",
      "1\n",
      "2\n",
      "3\n",
      "4\n"
     ]
    }
   ],
   "source": [
    "for i in range(5):\n",
    "    print(i)"
   ]
  },
  {
   "cell_type": "code",
   "execution_count": 7,
   "metadata": {},
   "outputs": [
    {
     "name": "stdout",
     "output_type": "stream",
     "text": [
      "45\n"
     ]
    }
   ],
   "source": [
    "mysum = 0 \n",
    "for i in range(10):\n",
    "    mysum += i\n",
    "print(mysum)"
   ]
  },
  {
   "cell_type": "code",
   "execution_count": 9,
   "metadata": {},
   "outputs": [
    {
     "name": "stdout",
     "output_type": "stream",
     "text": [
      "12\n"
     ]
    }
   ],
   "source": [
    "mysum = 0\n",
    "start = int(input('What number should I start?'))\n",
    "end = int(input(\"What number shouold I stop?\"))\n",
    "for i in range(start, end+1):\n",
    "    mysum += i\n",
    "print(mysum)"
   ]
  },
  {
   "cell_type": "code",
   "execution_count": 11,
   "metadata": {},
   "outputs": [
    {
     "name": "stdout",
     "output_type": "stream",
     "text": [
      "120\n"
     ]
    }
   ],
   "source": [
    "x = int(input(\"Enter your number\"))\n",
    "factorial = 1\n",
    "for i in range(1, x+1):\n",
    "    factorial *= i\n",
    "print(factorial)"
   ]
  }
 ],
 "metadata": {
  "kernelspec": {
   "display_name": "base",
   "language": "python",
   "name": "python3"
  },
  "language_info": {
   "codemirror_mode": {
    "name": "ipython",
    "version": 3
   },
   "file_extension": ".py",
   "mimetype": "text/x-python",
   "name": "python",
   "nbconvert_exporter": "python",
   "pygments_lexer": "ipython3",
   "version": "3.11.7"
  }
 },
 "nbformat": 4,
 "nbformat_minor": 2
}
