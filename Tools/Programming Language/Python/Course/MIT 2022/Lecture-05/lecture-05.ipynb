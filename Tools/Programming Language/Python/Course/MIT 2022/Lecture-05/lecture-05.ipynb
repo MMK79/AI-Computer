{
 "cells": [
  {
   "cell_type": "code",
   "execution_count": 2,
   "metadata": {},
   "outputs": [
    {
     "name": "stdout",
     "output_type": "stream",
     "text": [
      "Remainder 0.625\n",
      "Remainder 0.25\n",
      "Remainder 0.5\n",
      "The binary representation of the decimal 0.625 is .101\n"
     ]
    }
   ],
   "source": [
    "x = 0.625\n",
    "p = 0\n",
    "while((2**p)*x) % 1 != 0:\n",
    "    print(f'Remainder {(2**p)*x - int((2**p)*x)}')\n",
    "    p += 1\n",
    "num = int(x*(2**p))\n",
    "result = ''\n",
    "if num == 0:\n",
    "    result = '0'\n",
    "while num > 0:\n",
    "    result = str(num%2) + result\n",
    "    num = num//2\n",
    "    \n",
    "for i in range(p -len(result)):\n",
    "    result = '0' + result\n",
    "\n",
    "result = result[0:-p] + '.' + result[-p:]\n",
    "\n",
    "print(f\"The binary representation of the decimal {x} is {result}\")"
   ]
  },
  {
   "cell_type": "code",
   "execution_count": 7,
   "metadata": {},
   "outputs": [
    {
     "name": "stdout",
     "output_type": "stream",
     "text": [
      "abcdef\n",
      "abcd\n",
      "abcd\n",
      "efg\n",
      "f\n"
     ]
    }
   ],
   "source": [
    "word = 'abcdefg'\n",
    "print(word[:-1])\n",
    "print(word[:-3])\n",
    "print(word[0:-3])\n",
    "print(word[-3:])\n",
    "print(word[-2:-1])"
   ]
  },
  {
   "cell_type": "code",
   "execution_count": 8,
   "metadata": {},
   "outputs": [
    {
     "name": "stdout",
     "output_type": "stream",
     "text": [
      "x == 1.25 is: True\n",
      "x == 1 is: False\n"
     ]
    }
   ],
   "source": [
    "x = 0\n",
    "for i in range(10):\n",
    "    x += 0.125\n",
    "print('x == 1.25 is:', x == 1.25)\n",
    "\n",
    "x = 0\n",
    "for i in range(10):\n",
    "    x += 0.1\n",
    "print('x == 1 is:',x == 1)"
   ]
  },
  {
   "cell_type": "code",
   "execution_count": 30,
   "metadata": {},
   "outputs": [
    {
     "ename": "KeyboardInterrupt",
     "evalue": "",
     "output_type": "error",
     "traceback": [
      "\u001b[1;31m---------------------------------------------------------------------------\u001b[0m",
      "\u001b[1;31mKeyboardInterrupt\u001b[0m                         Traceback (most recent call last)",
      "Cell \u001b[1;32mIn[30], line 8\u001b[0m\n\u001b[0;32m      5\u001b[0m guess \u001b[38;5;241m=\u001b[39m \u001b[38;5;241m0.0\u001b[39m\n\u001b[0;32m      6\u001b[0m increment \u001b[38;5;241m=\u001b[39m \u001b[38;5;241m0.0001\u001b[39m\n\u001b[1;32m----> 8\u001b[0m \u001b[38;5;28;01mwhile\u001b[39;00m \u001b[38;5;28mabs\u001b[39m(guess\u001b[38;5;241m*\u001b[39m\u001b[38;5;241m*\u001b[39m\u001b[38;5;241m2\u001b[39m \u001b[38;5;241m-\u001b[39m x) \u001b[38;5;241m>\u001b[39m\u001b[38;5;241m=\u001b[39m epsilon:\n\u001b[0;32m      9\u001b[0m     guess \u001b[38;5;241m+\u001b[39m\u001b[38;5;241m=\u001b[39m increment\n\u001b[0;32m     10\u001b[0m     num_guesses \u001b[38;5;241m+\u001b[39m\u001b[38;5;241m=\u001b[39m \u001b[38;5;241m1\u001b[39m\n",
      "\u001b[1;31mKeyboardInterrupt\u001b[0m: "
     ]
    }
   ],
   "source": [
    "# Approximation Algorithm\n",
    "x = 54321\n",
    "epsilon = 0.01\n",
    "num_guesses = 0\n",
    "guess = 0.0\n",
    "increment = 0.0001\n",
    "\n",
    "while abs(guess**2 - x) >= epsilon:\n",
    "    guess += increment\n",
    "    num_guesses += 1\n",
    "    \n",
    "print(\"Number of guesses is:\", num_guesses)\n",
    "print(guess, \"is close to square root of\", x) "
   ]
  },
  {
   "cell_type": "code",
   "execution_count": 39,
   "metadata": {},
   "outputs": [
    {
     "name": "stdout",
     "output_type": "stream",
     "text": [
      "Current guess = 9.999999999990033\n",
      "Current guess**2 - x = 54221.0000000002\n",
      "Current guess = 19.99999999996673\n",
      "Current guess**2 - x = 53921.00000000133\n",
      "Current guess = 29.999999999943423\n",
      "Current guess**2 - x = 53421.0000000034\n",
      "Current guess = 40.00000000020433\n",
      "Current guess**2 - x = 52720.99999998365\n"
     ]
    },
    {
     "ename": "KeyboardInterrupt",
     "evalue": "",
     "output_type": "error",
     "traceback": [
      "\u001b[1;31m---------------------------------------------------------------------------\u001b[0m",
      "\u001b[1;31mKeyboardInterrupt\u001b[0m                         Traceback (most recent call last)",
      "Cell \u001b[1;32mIn[39], line 8\u001b[0m\n\u001b[0;32m      5\u001b[0m guess \u001b[38;5;241m=\u001b[39m \u001b[38;5;241m0.0\u001b[39m\n\u001b[0;32m      6\u001b[0m increment \u001b[38;5;241m=\u001b[39m \u001b[38;5;241m0.0001\u001b[39m\n\u001b[1;32m----> 8\u001b[0m \u001b[38;5;28;01mwhile\u001b[39;00m \u001b[38;5;28mabs\u001b[39m(guess\u001b[38;5;241m*\u001b[39m\u001b[38;5;241m*\u001b[39m\u001b[38;5;241m2\u001b[39m \u001b[38;5;241m-\u001b[39m x) \u001b[38;5;241m>\u001b[39m\u001b[38;5;241m=\u001b[39m epsilon:\n\u001b[0;32m      9\u001b[0m     guess \u001b[38;5;241m+\u001b[39m\u001b[38;5;241m=\u001b[39m increment\n\u001b[0;32m     10\u001b[0m     num_guesses \u001b[38;5;241m+\u001b[39m\u001b[38;5;241m=\u001b[39m \u001b[38;5;241m1\u001b[39m\n",
      "\u001b[1;31mKeyboardInterrupt\u001b[0m: "
     ]
    }
   ],
   "source": [
    "# Approximation Algorithm\n",
    "x = 54321\n",
    "epsilon = 0.01\n",
    "num_guesses = 0\n",
    "guess = 0.0\n",
    "increment = 0.0001\n",
    "\n",
    "while abs(guess**2 - x) >= epsilon:\n",
    "    guess += increment\n",
    "    num_guesses += 1\n",
    "    if num_guesses%100000 == 0:\n",
    "        print('Current guess =', guess)\n",
    "        print('Current guess**2 - x =', abs(guess**2 - x))\n",
    "    \n",
    "print(\"Number of guesses is:\", num_guesses)\n",
    "print(guess, \"is close to square root of\", x)\n",
    "\n",
    "# Never going to converge, cause it will enetually over-shot the mark, simple way to fix it i**2 <= x"
   ]
  },
  {
   "cell_type": "code",
   "execution_count": 42,
   "metadata": {},
   "outputs": [
    {
     "name": "stdout",
     "output_type": "stream",
     "text": [
      "Number of guesses is: 7098\n",
      "233.0686400000218 is close to square root of 54321\n"
     ]
    }
   ],
   "source": [
    "# Combination of Guess-and-Check with Approximation Algorithm\n",
    "x = 54321\n",
    "found_flag_perfect = False\n",
    "epsilon = 0.01\n",
    "guess = 0.0\n",
    "num_guesses = 0\n",
    "# increment = 0.0001\n",
    "increment = 0.00001\n",
    "\n",
    "\n",
    "for i in range(x-1):\n",
    "    if i**2 >= x:\n",
    "        break\n",
    "    # print(i)\n",
    "    num_guesses += 1\n",
    "if i**2 == x:\n",
    "    found_flag_perfect = True\n",
    "    print(\"Number of guesses is:\", num_guesses)\n",
    "    print(x, \"is a perfect square and the root of it is\", i)\n",
    "\n",
    "if found_flag_perfect == False:\n",
    "    guess = float(i-1)\n",
    "    while abs(guess**2 - x) >= epsilon and guess**2 <= x:\n",
    "        guess += increment\n",
    "        num_guesses += 1\n",
    "        if num_guesses%100000 == 0:\n",
    "            print('Current guess =', guess)\n",
    "            print('Current guess**2 - x =', abs(guess**2 - x))\n",
    "if abs(guess**2 - x) > epsilon:\n",
    "    print(\"Number of guesses is:\", num_guesses)\n",
    "    print('Failed on square root of', x, 'but this is what we got in the end', guess)\n",
    "else:\n",
    "    print(\"Number of guesses is:\", num_guesses)\n",
    "    print(guess, 'is close to square root of', x)"
   ]
  }
 ],
 "metadata": {
  "kernelspec": {
   "display_name": "base",
   "language": "python",
   "name": "python3"
  },
  "language_info": {
   "codemirror_mode": {
    "name": "ipython",
    "version": 3
   },
   "file_extension": ".py",
   "mimetype": "text/x-python",
   "name": "python",
   "nbconvert_exporter": "python",
   "pygments_lexer": "ipython3",
   "version": "3.11.7"
  }
 },
 "nbformat": 4,
 "nbformat_minor": 2
}
