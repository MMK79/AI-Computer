{
 "cells": [
  {
   "cell_type": "code",
   "execution_count": null,
   "id": "243cfe3e",
   "metadata": {},
   "outputs": [],
   "source": [
    "import random\n",
    "import matplotlib.pyplot as plt\n",
    "\n",
    "dice_d = {}\n",
    "for i in range(1000):\n",
    "    dice = random.randrange(1, 7, 1)\n",
    "    if dice in dice_d:\n",
    "        dice_d[dice] += 1\n",
    "    else:\n",
    "        dice_d[dice] = 1\n",
    "\n",
    "dice_ld = []\n",
    "dice_ls = []\n",
    "for k, v in dice_d.items():\n",
    "    dice_ld.append(int(k))\n",
    "    dice_ls.append(int(v))\n",
    "print(dice_d)\n",
    "print(dice_ls, dice_ld)\n",
    "\n",
    "plt.bar(dice_ld, dice_ls)\n",
    "plt.show()"
   ]
  },
  {
   "cell_type": "code",
   "execution_count": null,
   "id": "2eb28fbc",
   "metadata": {},
   "outputs": [],
   "source": [
    "import random\n",
    "\n",
    "count = 0\n",
    "for i in range(1000):\n",
    "    dice_dict = {}\n",
    "    for i in range(8):\n",
    "        dice = random.randrange(1, 7, 1)\n",
    "        if dice in dice_dict:\n",
    "            dice_dict[dice] += 1\n",
    "        else:\n",
    "            dice_dict[dice] = 1\n",
    "    if 3 in dice_dict and dice_dict[3] >= 3:\n",
    "        count += 1\n",
    "print(count)"
   ]
  },
  {
   "cell_type": "code",
   "execution_count": null,
   "id": "0bba5118",
   "metadata": {},
   "outputs": [],
   "source": [
    "import random\n",
    "import matplotlib.pyplot as plt\n",
    "\n",
    "def fill_pool(size):\n",
    "    flow_rate = []\n",
    "    fill_time = []\n",
    "    Npoints = 10000\n",
    "    for i in range(Npoints):\n",
    "        r = 1+2*(random.random())\n",
    "        flow_rate.append(r)\n",
    "        fill_time.append(size/r)\n",
    "\n",
    "    print('avg flow rate', sum(flow_rate)/len(flow_rate))\n",
    "    print('avg fill_time', sum(fill_time)/len(fill_time))\n",
    "    plt.figure()\n",
    "    plt.scatter(range(Npoints), flow_rate, s=1)\n",
    "    plt.figure()\n",
    "    plt.scatter(range(Npoints), fill_time, s=1)\n",
    "    plt.show()\n",
    "\n",
    "fill_pool(600)\n"
   ]
  }
 ],
 "metadata": {
  "kernelspec": {
   "display_name": "base",
   "language": "python",
   "name": "python3"
  },
  "language_info": {
   "name": "python",
   "version": "3.12.2"
  }
 },
 "nbformat": 4,
 "nbformat_minor": 5
}
