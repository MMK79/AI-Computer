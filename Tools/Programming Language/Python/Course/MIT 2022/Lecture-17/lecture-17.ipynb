{
 "cells": [
  {
   "cell_type": "code",
   "execution_count": null,
   "id": "0057b3f8",
   "metadata": {},
   "outputs": [],
   "source": [
    "# class = def but for creating class\n",
    "# class Class_name(parent)\n",
    "# Class_name/type\n",
    "# object means, this class is a python object so it will inherite all its object attribute\n",
    "# so you can create an object with this class type in memory and assign a variable to it\n",
    "class Coordinate(object):\n",
    "    # __init__ is a dunder function/ double underline function\n",
    "    # It initialize your class data/operation\n",
    "    # self allows you to create variable that belong to this object\n",
    "    def __init__(self, xval, yval):\n",
    "        # self.variable_name = parameters_name\n",
    "        # create a variable that lives through the lifecycle of your object\n",
    "        self.x = xval\n",
    "        self.y = yval\n",
    "    def distance(self, other):\n",
    "        x_diff_sq = ( self.x - other.x )**2\n",
    "        y_diff_sq = ( self.y - other.y )**2\n",
    "        return (x_diff_sq + y_diff_sq)**0.5\n",
    "    def minus(self, other):\n",
    "        x_diff = self.x - other.x\n",
    "        y_diff = self.y - other.y\n",
    "        return Coordinate( x_diff, y_diff )\n",
    "\n",
    "c = Coordinate(3, 4)\n",
    "print(c.x, c.y, type(c))\n",
    "origin = Coordinate(0, 0)\n",
    "print(origin.x, origin.x, type(origin))\n",
    "print(Coordinate.distance(c, origin))\n",
    "print(c.distance(origin))\n",
    "L = []\n",
    "print(list.append(L, 1))\n",
    "print(L)\n",
    "d = Coordinate(10, 8)\n",
    "print(Coordinate.minus(d, c))\n",
    "print(Coordinate.minus(d, c).x, Coordinate.minus(d, c).y)\n",
    "print(c.minus(d))\n",
    "print(c.minus(d).x, c.minus(d).y)"
   ]
  }
 ],
 "metadata": {
  "language_info": {
   "name": "python"
  }
 },
 "nbformat": 4,
 "nbformat_minor": 5
}
