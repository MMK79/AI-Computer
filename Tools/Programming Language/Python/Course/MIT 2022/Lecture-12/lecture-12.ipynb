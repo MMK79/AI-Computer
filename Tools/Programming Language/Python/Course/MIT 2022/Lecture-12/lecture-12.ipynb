{
 "cells": [
  {
   "cell_type": "code",
   "execution_count": 3,
   "metadata": {},
   "outputs": [
    {
     "name": "stdout",
     "output_type": "stream",
     "text": [
      "[0, 1, 4, 9, 16, 25, 36, 49, 64, 81, 100, 121, 144, 169, 196, 225, 256, 289, 324, 361, 400]\n",
      "[0, 4, 16, 36, 64, 100, 144, 196, 256, 324, 400]\n"
     ]
    }
   ],
   "source": [
    "L = []\n",
    "for i in range(21):\n",
    "    L.append(i)\n",
    "\n",
    "# List Comprehension\n",
    "def f(L):\n",
    "    # Applying function to a sequence and save the results in new list, and return that new list, common concept in coding\n",
    "    Lnew = []\n",
    "    for e in L:\n",
    "        Lnew.append(e**2)\n",
    "    return Lnew\n",
    "\n",
    "# list comprehension, one liner version of this concept\n",
    "# new_list = [<expression> for <element> in <iterable> if <test>]\n",
    "Lnew = [e**2 for e in L]\n",
    "print(Lnew)\n",
    "\n",
    "def f(L):\n",
    "    # have a condition\n",
    "    Lnew = []\n",
    "    for e in L:\n",
    "        if e%2 == 0:\n",
    "            Lnew.append(e**2)\n",
    "    return Lnew\n",
    "\n",
    "# You can even have condition in this list comprehension format\n",
    "Lnew = [e**2 for e in L if e%2 == 0]\n",
    "print(Lnew)\n",
    "\n",
    "# [expression fro elem in iterable if test]\n",
    "# equivalent to invoking this function\n",
    "# def f(expression, old_list, test = lambda x: True):\n",
    "#     new_list = []\n",
    "#     for e in old_list:\n",
    "#         if test(e):\n",
    "#             new_list.append(expression(e))\n",
    "#     return new_list"
   ]
  },
  {
   "cell_type": "code",
   "execution_count": 7,
   "metadata": {},
   "outputs": [
    {
     "name": "stdout",
     "output_type": "stream",
     "text": [
      "[0, 1, 2, 3, 4, 5, 6, 7, 8, 9, 10, 11, 12, 13, 14, 15, 16, 17, 18, 19]\n",
      "[0, 4, 16, 36]\n",
      "[[0, 0], [2, 4], [4, 16], [6, 36], [8, 64], [10, 100]]\n"
     ]
    }
   ],
   "source": [
    "# you can also use it like this\n",
    "# as long as you have a sequence that you can iterate over you can use this expression\n",
    "L = [e for e in range(20)]\n",
    "print(L)\n",
    "L1 = [e**2 for e in range(8) if e%2 ==0]\n",
    "print(L1)\n",
    "L2 = [[e, e**2] for e in range(11) if e%2 == 0]\n",
    "print(L2)"
   ]
  },
  {
   "cell_type": "code",
   "execution_count": 8,
   "metadata": {},
   "outputs": [
    {
     "name": "stdout",
     "output_type": "stream",
     "text": [
      "[2, 4, 3]\n"
     ]
    }
   ],
   "source": [
    "L = [len(x) for x in ['xy', 'abcd', 7, '4.0'] if type(x) == str]\n",
    "print(L) # [2, 4, 3]"
   ]
  },
  {
   "cell_type": "code",
   "execution_count": 9,
   "metadata": {},
   "outputs": [
    {
     "name": "stdout",
     "output_type": "stream",
     "text": [
      "11.090194702148438\n"
     ]
    }
   ],
   "source": [
    "def bisection_root(x):\n",
    "    epsilon = 0.01\n",
    "    low = 0\n",
    "    high = x\n",
    "    guess = (high + low)/2.0\n",
    "    while abs(guess**2 - x) >= epsilon:\n",
    "        if guess**2 < x:\n",
    "            low = guess\n",
    "        else:\n",
    "            high = guess\n",
    "        guess = (high + low)/2.0\n",
    "    return guess\n",
    "\n",
    "print(bisection_root(123))"
   ]
  },
  {
   "cell_type": "markdown",
   "metadata": {},
   "source": [
    "User want more accurate answer, we need to change epsilon, Options?\n",
    "1. Change epsilon inside function --> all function calls are affected\n",
    "2. Use an epsilon outside function --> Global variables are bad\n",
    "3. Add epsilon as an argument to the function"
   ]
  },
  {
   "cell_type": "code",
   "execution_count": 10,
   "metadata": {},
   "outputs": [
    {
     "name": "stdout",
     "output_type": "stream",
     "text": [
      "11.090194702148438\n"
     ]
    }
   ],
   "source": [
    "# Added epsilon to the argument of the function\n",
    "def bisection_root(x, epsilon):\n",
    "    low = 0\n",
    "    high = x\n",
    "    guess = (high + low)/2.0\n",
    "    while abs(guess**2 - x) >= epsilon:\n",
    "        if guess**2 < x:\n",
    "            low = guess\n",
    "        else:\n",
    "            high = guess\n",
    "        guess = (high + low)/2.0\n",
    "    return guess\n",
    "\n",
    "print(bisection_root(123, 0.01))"
   ]
  },
  {
   "cell_type": "code",
   "execution_count": 13,
   "metadata": {},
   "outputs": [
    {
     "name": "stdout",
     "output_type": "stream",
     "text": [
      "11.090194702148438\n"
     ]
    }
   ],
   "source": [
    "# Added Default Parameters/ Keyword Parameter\n",
    "def bisection_root_new(x, epsilon = 0.01): # You must write the default parameter at the end of the function argument\n",
    "    low = 0\n",
    "    high = x\n",
    "    guess = (high + low)/2.0\n",
    "    while abs(guess**2 - x) >= epsilon:\n",
    "        if guess**2 < x:\n",
    "            low = guess\n",
    "        else:\n",
    "            high = guess\n",
    "        guess = (high + low)/2.0\n",
    "    return guess\n",
    "\n",
    "print(bisection_root_new(123))"
   ]
  },
  {
   "cell_type": "code",
   "execution_count": 14,
   "metadata": {},
   "outputs": [
    {
     "ename": "SyntaxError",
     "evalue": "positional argument follows keyword argument (464421755.py, line 9)",
     "output_type": "error",
     "traceback": [
      "\u001b[1;36m  Cell \u001b[1;32mIn[14], line 9\u001b[1;36m\u001b[0m\n\u001b[1;33m    bisection_root_new(epsilon=0.001, 123) # --> Will result in error\u001b[0m\n\u001b[1;37m                                         ^\u001b[0m\n\u001b[1;31mSyntaxError\u001b[0m\u001b[1;31m:\u001b[0m positional argument follows keyword argument\n"
     ]
    }
   ],
   "source": [
    "# Different types of Function call\n",
    "# These are ok for function call\n",
    "bisection_root_new(123)\n",
    "bisection_root_new(123, 0.001)\n",
    "bisection_root_new(123, epsilon=0.001)\n",
    "bisection_root_new(x=123, epsilon=0.001)\n",
    "bisection_root_new(epsilon=0.001, x= 123)\n",
    "# These are not ok for function call\n",
    "# bisection_root_new(epsilon=0.001, 123) # --> Will result in error\n",
    "# bisection_root_new(0.001, 123) # No error but semantically wrong"
   ]
  },
  {
   "cell_type": "code",
   "execution_count": 15,
   "metadata": {},
   "outputs": [
    {
     "name": "stdout",
     "output_type": "stream",
     "text": [
      "False\n",
      "True\n"
     ]
    }
   ],
   "source": [
    "# Objects in a program\n",
    "def is_even(i):\n",
    "    return i%2==0\n",
    "\n",
    "r = 2\n",
    "pi = 22/7\n",
    "my_func = is_even # Alias\n",
    "a = is_even(3)\n",
    "print(a)\n",
    "b = my_func(4)\n",
    "print(b)"
   ]
  },
  {
   "cell_type": "code",
   "execution_count": 24,
   "metadata": {},
   "outputs": [
    {
     "name": "stdout",
     "output_type": "stream",
     "text": [
      "val = make_prod(2)(3) 6\n",
      "doubler type is <class 'function'>\n",
      "val type is <class 'int'>\n",
      "6\n"
     ]
    }
   ],
   "source": [
    "# Function can return Function\n",
    "def make_prod(a):\n",
    "    def g(b):# g exist only and only when make_prod exist, the main program have no idea that we have g\n",
    "        return a*b\n",
    "    return g # This is NOT a function call! We are returning a Function Object\n",
    "\n",
    "val = make_prod(2)(3) # Chained function call --> more easier, easier to read, less line of code\n",
    "print('val = make_prod(2)(3)', val) \n",
    "# How does g get value for a? Interpreter can move up hierarchy of frames to see both b and a values :D\n",
    "\n",
    "doubler = make_prod(2) # doubler is now alias for g\n",
    "print('doubler type is',type(doubler))\n",
    "val = doubler(3)\n",
    "print('val type is', type(val))\n",
    "print(val)\n"
   ]
  }
 ],
 "metadata": {
  "kernelspec": {
   "display_name": "base",
   "language": "python",
   "name": "python3"
  },
  "language_info": {
   "codemirror_mode": {
    "name": "ipython",
    "version": 3
   },
   "file_extension": ".py",
   "mimetype": "text/x-python",
   "name": "python",
   "nbconvert_exporter": "python",
   "pygments_lexer": "ipython3",
   "version": "3.11.7"
  }
 },
 "nbformat": 4,
 "nbformat_minor": 2
}
